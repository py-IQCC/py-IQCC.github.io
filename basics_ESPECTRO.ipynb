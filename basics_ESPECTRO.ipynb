{
  "nbformat": 4,
  "nbformat_minor": 0,
  "metadata": {
    "colab": {
      "provenance": [],
      "toc_visible": true
    },
    "kernelspec": {
      "name": "python3",
      "display_name": "Python 3"
    },
    "language_info": {
      "name": "python"
    }
  },
  "cells": [
    {
      "cell_type": "markdown",
      "source": [
        "# Capítol 1: Python bàsic"
      ],
      "metadata": {
        "id": "AQiKezliuLAe"
      }
    },
    {
      "cell_type": "markdown",
      "source": [
        "## 1.1 Números\n"
      ],
      "metadata": {
        "id": "g2jvlSk9uNlQ"
      }
    },
    {
      "cell_type": "markdown",
      "source": [
        "### 1.1.1 Matemàtica bàsica\n",
        "\n",
        "Python pot actuar com una calculadora molt potent, capaç de realitzar tant operacions aritmètiques bàsiques com càlculs matemàtics avançats. Fer matemàtiques en un intèrpret de Python és semblant a usar una calculadora gràfica: l’usuari introdueix una expressió matemàtica en una línia i prem **Return** (o **Shift+Return** en una cel·la d’un notebook de Jupyter), i el resultat apareix just a sota. Python inclou diversos operadors matemàtics bàsics, com es mostra a la taula següent.\n",
        "\n",
        "**Taula 1** Operadors matemàtics en Python\n",
        "\n",
        "| Operador | Descripció                   |\n",
        "|----------|------------------------------|\n",
        "| `+`      | Suma                         |\n",
        "| `-`      | Resta                        |\n",
        "| `*`      | Multiplicació                |\n",
        "| `/`      | Divisió normal               |\n",
        "| `//`     | Divisió entera (cap a baix)  |\n",
        "| `**`     | Exponenciació                |\n",
        "| `%`      | Mòdul (residu de la divisió) |\n",
        "\n",
        "Els operadors de suma, resta, multiplicació i divisió funcionen igual que a la majoria de classes de matemàtiques. Python segueix l'ordre estàndard d’operacions, així que es poden usar parèntesis per modificar el flux dels càlculs com calgui."
      ],
      "metadata": {
        "id": "_ahe_DfACgSJ"
      }
    },
    {
      "cell_type": "code",
      "execution_count": null,
      "metadata": {
        "colab": {
          "base_uri": "https://localhost:8080/"
        },
        "id": "wsKFJYtbt_ZU",
        "outputId": "3fcc3019-5279-479c-90cc-434018d2de64"
      },
      "outputs": [
        {
          "output_type": "execute_result",
          "data": {
            "text/plain": [
              "14"
            ]
          },
          "metadata": {},
          "execution_count": 267
        }
      ],
      "source": [
        "8 + 3 * 2"
      ]
    },
    {
      "cell_type": "code",
      "source": [
        "(8 + 3) * 2"
      ],
      "metadata": {
        "colab": {
          "base_uri": "https://localhost:8080/"
        },
        "id": "aX8rhESKuRUy",
        "outputId": "54e5679d-3e28-46e7-e9e8-83b12e8b61bf"
      },
      "execution_count": null,
      "outputs": [
        {
          "output_type": "execute_result",
          "data": {
            "text/plain": [
              "22"
            ]
          },
          "metadata": {},
          "execution_count": 268
        }
      ]
    },
    {
      "cell_type": "markdown",
      "source": [
        "Potser has notat que hi ha espais al voltant dels operadors matemàtics en els exemples anteriors. Python *no* té en compte els espais *dins* d'una línia, així que pots afegir-ne per fer més llegible el càlcul. Tanmateix, sí que importa els espais a l'*inici* de les línies, tema que veurem més endavant quan parlem de condicions i bucles.\n",
        "\n",
        "La divisió normal, indicada per una barra (`/`), fa exactament el que esperes: per exemple, 3 dividit entre 2 dona 1.5. La *divisió entera*, amb doble barra (`//`), pot sorprendre: no dona el resultat exacte, sinó que arrodoneix cap avall (també es pot dir que trunca la part decimal).\n"
      ],
      "metadata": {
        "id": "FES3VOdwuTNA"
      }
    },
    {
      "cell_type": "code",
      "source": [
        "3 / 2"
      ],
      "metadata": {
        "colab": {
          "base_uri": "https://localhost:8080/"
        },
        "id": "v10aMFdyuX9o",
        "outputId": "7d8ce8b6-0286-49f5-c245-f81eebc61e30"
      },
      "execution_count": null,
      "outputs": [
        {
          "output_type": "execute_result",
          "data": {
            "text/plain": [
              "1.5"
            ]
          },
          "metadata": {},
          "execution_count": 269
        }
      ]
    },
    {
      "cell_type": "code",
      "source": [
        "3 // 2"
      ],
      "metadata": {
        "colab": {
          "base_uri": "https://localhost:8080/"
        },
        "id": "q0H4cYHwuaUt",
        "outputId": "f2555a77-41ee-4e02-c6ed-21a244f95589"
      },
      "execution_count": null,
      "outputs": [
        {
          "output_type": "execute_result",
          "data": {
            "text/plain": [
              "1"
            ]
          },
          "metadata": {},
          "execution_count": 270
        }
      ]
    },
    {
      "cell_type": "markdown",
      "source": [
        "L'exponenciació es fa amb dos asteriscs (`**`). El símbol `^` significa una altra cosa a Python, així que cal anar amb compte de no confondre'ls."
      ],
      "metadata": {
        "id": "I5Vdu3mEubw8"
      }
    },
    {
      "cell_type": "code",
      "source": [
        "2 ** 3"
      ],
      "metadata": {
        "colab": {
          "base_uri": "https://localhost:8080/"
        },
        "id": "2_OUwnyyucGJ",
        "outputId": "fb22a6f1-7965-45fa-aead-d7be7bdab934"
      },
      "execution_count": null,
      "outputs": [
        {
          "output_type": "execute_result",
          "data": {
            "text/plain": [
              "8"
            ]
          },
          "metadata": {},
          "execution_count": 271
        }
      ]
    },
    {
      "cell_type": "markdown",
      "source": [
        "Occasionalment, obtenir el *mòdul* també pot ser útil, i es fa servir l'operador de *mòdul* (`%`). Aquest també s'anomena el *residu* de la divisió, és a dir, la part que sobra quan un nombre no es divideix exactament. En l'exemple següent, el 3 cap dins del 10 tres vegades, i en sobra 1. Aquesta part sobrant és el mòdul. Això sovint és útil, per exemple, per determinar si un nombre és parell."
      ],
      "metadata": {
        "id": "xwqXvEg2ueek"
      }
    },
    {
      "cell_type": "code",
      "source": [
        "10 % 3"
      ],
      "metadata": {
        "colab": {
          "base_uri": "https://localhost:8080/"
        },
        "id": "GCFo2h7MuhFW",
        "outputId": "b19338ff-d75f-4f9c-c1fc-a438621f4a56"
      },
      "execution_count": null,
      "outputs": [
        {
          "output_type": "execute_result",
          "data": {
            "text/plain": [
              "1"
            ]
          },
          "metadata": {},
          "execution_count": 272
        }
      ]
    },
    {
      "cell_type": "markdown",
      "source": [
        "### 1.1.2 Enters i Floats\n",
        "\n",
        "Hi ha dos tipus de nombres a Python: *floats* i *enters*. Els *floats* (nombres de coma flotant) tenen decimals. Poden ser valors enters (com `3.0`) o fraccionaris (`1.2`), però sempre inclouen un punt decimal. Els *enters* són nombres sencers com `2` o `53`.\n",
        "\n",
        "Les operacions matemàtiques que només impliquen enters i donen com a resultat un enter generen un enter. Qualsevol altra situació genera un float. En el segon exemple de sota, es genera un float perquè un dels valors d’entrada és un float. En el tercer exemple, tot i que només hi ha enters, el resultat és una fracció, així que el resultat també és un float.\n"
      ],
      "metadata": {
        "id": "HRbiqNgLugxM"
      }
    },
    {
      "cell_type": "code",
      "source": [
        "3 + 8"
      ],
      "metadata": {
        "colab": {
          "base_uri": "https://localhost:8080/"
        },
        "id": "6p10cwPPukCC",
        "outputId": "cf00f922-4c9a-430e-b885-a4e739224c6a"
      },
      "execution_count": null,
      "outputs": [
        {
          "output_type": "execute_result",
          "data": {
            "text/plain": [
              "11"
            ]
          },
          "metadata": {},
          "execution_count": 273
        }
      ]
    },
    {
      "cell_type": "code",
      "source": [
        "3.0 + 8"
      ],
      "metadata": {
        "colab": {
          "base_uri": "https://localhost:8080/"
        },
        "id": "CogIZ315umS_",
        "outputId": "ae79d627-d0ce-4eba-9537-47a97889b68c"
      },
      "execution_count": null,
      "outputs": [
        {
          "output_type": "execute_result",
          "data": {
            "text/plain": [
              "11.0"
            ]
          },
          "metadata": {},
          "execution_count": 274
        }
      ]
    },
    {
      "cell_type": "code",
      "source": [
        "2 / 5"
      ],
      "metadata": {
        "colab": {
          "base_uri": "https://localhost:8080/"
        },
        "id": "GgDP3XGnunMG",
        "outputId": "bce78888-d282-408d-e6ba-4e7743ce84d2"
      },
      "execution_count": null,
      "outputs": [
        {
          "output_type": "execute_result",
          "data": {
            "text/plain": [
              "0.4"
            ]
          },
          "metadata": {},
          "execution_count": 275
        }
      ]
    },
    {
      "cell_type": "markdown",
      "source": [
        "Els floats i enters es poden convertir entre si amb les funcions `int()` i `float()`."
      ],
      "metadata": {
        "id": "w-3XiaSFuow4"
      }
    },
    {
      "cell_type": "code",
      "source": [
        "int(3.0)"
      ],
      "metadata": {
        "colab": {
          "base_uri": "https://localhost:8080/"
        },
        "id": "bNTOOWHDuqA4",
        "outputId": "332fd8d8-cdc4-4580-eeaa-6ee43580817d"
      },
      "execution_count": null,
      "outputs": [
        {
          "output_type": "execute_result",
          "data": {
            "text/plain": [
              "3"
            ]
          },
          "metadata": {},
          "execution_count": 276
        }
      ]
    },
    {
      "cell_type": "code",
      "source": [
        "float(4)"
      ],
      "metadata": {
        "colab": {
          "base_uri": "https://localhost:8080/"
        },
        "id": "KpQJ9btGurRK",
        "outputId": "4e75124f-abeb-4536-daef-2a9440808b64"
      },
      "execution_count": null,
      "outputs": [
        {
          "output_type": "execute_result",
          "data": {
            "text/plain": [
              "4.0"
            ]
          },
          "metadata": {},
          "execution_count": 277
        }
      ]
    },
    {
      "cell_type": "markdown",
      "source": [
        "La distinció entre floats i enters sovint és un detall menor. Hi ha situacions en què una funció pot requerir un format específic, però en la majoria dels casos Python s’encarrega de gestionar-ho automàticament.\n"
      ],
      "metadata": {
        "id": "XB_dW_1Gusg0"
      }
    },
    {
      "cell_type": "markdown",
      "source": [
        "### 1.1.3 Funcions de Python\n",
        "\n",
        "A més dels operadors bàsics, Python inclou moltes funcions útils. Igual que en matemàtiques, una funció té un nom (p. ex. `f`) i els arguments van entre parèntesis. Un *argument* és qualsevol valor o informació que es passa a una funció. Per exemple, si tenim:\n",
        "\n",
        "$$ f(x) $$\n",
        "\n",
        "L'`x` és l'argument de la funció `f`.\n",
        "\n",
        "A la Taula 2 es mostren algunes funcions comunes com `abs()` (valor absolut) i `round()` (arrodoniment). Cal destacar que `round()` usa l'arrodoniment del banquer: si un nombre està exactament a la meitat entre dos enters (p. ex., `4.5`), s'arrodoneix cap a l'enter *parell* (en aquest cas, `4`)."
      ],
      "metadata": {
        "id": "o2xV-j2Uuujn"
      }
    },
    {
      "cell_type": "code",
      "source": [
        "abs(-4)"
      ],
      "metadata": {
        "colab": {
          "base_uri": "https://localhost:8080/"
        },
        "id": "sDBWFhK9uwtC",
        "outputId": "b435f439-ce46-448d-8290-40ac817c264c"
      },
      "execution_count": null,
      "outputs": [
        {
          "output_type": "execute_result",
          "data": {
            "text/plain": [
              "4"
            ]
          },
          "metadata": {},
          "execution_count": 278
        }
      ]
    },
    {
      "cell_type": "code",
      "source": [
        "round(4.5)"
      ],
      "metadata": {
        "colab": {
          "base_uri": "https://localhost:8080/"
        },
        "id": "hD_G7CNeux3a",
        "outputId": "c791056b-5659-4562-e17a-dad0f3fc065b"
      },
      "execution_count": null,
      "outputs": [
        {
          "output_type": "execute_result",
          "data": {
            "text/plain": [
              "4"
            ]
          },
          "metadata": {},
          "execution_count": 279
        }
      ]
    },
    {
      "cell_type": "markdown",
      "source": [
        "**Taula 2** Funcions comunes de Python\n",
        "\n",
        "| Funció      | Descripció                                |\n",
        "|-------------|--------------------------------------------|\n",
        "| `abs()`     | Valor absolut                              |\n",
        "| `float()`   | Converteix a float                         |\n",
        "| `int()`     | Converteix a enter                         |\n",
        "| `len()`     | Retorna la longitud d'un objecte           |\n",
        "| `list()`    | Converteix un objecte a llista             |\n",
        "| `max()`     | Valor màxim                                |\n",
        "| `min()`     | Valor mínim                                |\n",
        "| `open()`    | Obre un fitxer                             |\n",
        "| `print()`   | Mostra un resultat a la sortida            |\n",
        "| `round()`   | Arrodoneix amb la regla del banquer        |\n",
        "| `str()`     | Converteix un objecte a string             |\n",
        "| `sum()`     | Suma d'una col·lecció de valors            |\n",
        "| `tuple()`   | Converteix a tupla                         |\n",
        "| `type()`    | Tipus d'objecte (p. ex. `float`)           |\n",
        "| `zip()`     | Uneix dues llistes o tuples                |\n",
        "\n",
        "La funció `print()` és una de les més comunes. Serveix per mostrar text o valors. Als notebooks de Jupyter, sovint es mostra el resultat per defecte, però `print()` ofereix molt més control sobre el que es mostra, com veurem a la secció 1.3.\n"
      ],
      "metadata": {
        "id": "P0CtLWjFuwXw"
      }
    },
    {
      "cell_type": "code",
      "source": [
        "print(8.3145)"
      ],
      "metadata": {
        "colab": {
          "base_uri": "https://localhost:8080/"
        },
        "id": "jLrBlDYNu2Bu",
        "outputId": "4cf76eae-5d0d-44b4-8c91-06a3fba78901"
      },
      "execution_count": null,
      "outputs": [
        {
          "output_type": "stream",
          "name": "stdout",
          "text": [
            "8.3145\n"
          ]
        }
      ]
    },
    {
      "cell_type": "markdown",
      "source": [
        "A més de les funcions natives de Python, també hi ha el mòdul `math`, que ofereix funcions matemàtiques addicionals. Un *mòdul* és com un paquet d’eines addicional. El mòdul `math` ve inclòs amb Python i s’activa mitjançant la instrucció `import math`.\n",
        "\n",
        "Un cop importat, pots utilitzar les funcions del mòdul amb la sintaxi `math.nom_de_funció()`. Per exemple, `math.sqrt()` calcula l’arrel quadrada.\n"
      ],
      "metadata": {
        "id": "2UgrQx1Iu3-r"
      }
    },
    {
      "cell_type": "code",
      "source": [
        "import math\n",
        "math.sqrt(4)"
      ],
      "metadata": {
        "colab": {
          "base_uri": "https://localhost:8080/"
        },
        "id": "JPV7rkFDu5ek",
        "outputId": "7937dc97-f0c9-4e12-ca52-d0ea663b7a40"
      },
      "execution_count": null,
      "outputs": [
        {
          "output_type": "execute_result",
          "data": {
            "text/plain": [
              "2.0"
            ]
          },
          "metadata": {},
          "execution_count": 281
        }
      ]
    },
    {
      "cell_type": "markdown",
      "source": [
        "Table 3 lists some commonly used functions in the `math` module, and a few examples are shown below. Interestingly, some functions simply provide a mathematical constant.\n",
        "\n",
        "La Taula 3 enumera algunes de les funcions més comunes en el mòdul `math`, i alguns exemples es mostren a sota. A més a més, algunes funcions donen constants matemàtiques."
      ],
      "metadata": {
        "id": "gibJo_XUu7Ef"
      }
    },
    {
      "cell_type": "markdown",
      "source": [
        "**Taula 3** Funcions comunes del mòdul `math`\n",
        "\n",
        "| Funció          | Descripció                                        |\n",
        "|------------------|---------------------------------------------------|\n",
        "| `ceil(x)`        | Arrodoneix cap amunt                              |\n",
        "| `cos(x)`         | Retorna `cos(x)`                                  |\n",
        "| `degrees(x)`     | Converteix radians a graus                        |\n",
        "| `e`              | Retorna el valor de `e`                           |\n",
        "| `exp(x)`         | Calcula `e^x`                                     |\n",
        "| `factorial(x)`   | Factorial de `x`                                  |\n",
        "| `floor(x)`       | Arrodoneix cap avall                              |\n",
        "| `log(x)`         | Logaritme natural (`ln`)                          |\n",
        "| `log10(x)`       | Logaritme en base 10                              |\n",
        "| `pi`             | Retorna el valor de `π`                           |\n",
        "| `pow(x, y)`      | Calcula `x^y`                                     |\n",
        "| `radians(x)`     | Converteix graus a radians                        |\n",
        "| `sin(x)`         | Retorna `sin(x)`                                  |\n",
        "| `sqrt(x)`        | Arrel quadrada de `x`                             |\n",
        "| `tan(x)`         | Retorna `tan(x)`                                  |\n",
        "\n",
        "Algunes funcions, com `pi`, retornen constants matemàtiques."
      ],
      "metadata": {
        "id": "W0MXSGaWvANa"
      }
    },
    {
      "cell_type": "code",
      "source": [
        "math.ceil(4.3)"
      ],
      "metadata": {
        "colab": {
          "base_uri": "https://localhost:8080/"
        },
        "id": "egxMWPULu8dq",
        "outputId": "f2e484cf-b5b3-4b28-b5e9-09a766201291"
      },
      "execution_count": null,
      "outputs": [
        {
          "output_type": "execute_result",
          "data": {
            "text/plain": [
              "5"
            ]
          },
          "metadata": {},
          "execution_count": 282
        }
      ]
    },
    {
      "cell_type": "code",
      "source": [
        "math.pi"
      ],
      "metadata": {
        "colab": {
          "base_uri": "https://localhost:8080/"
        },
        "id": "9n_ikTrKu9kv",
        "outputId": "d93d596d-01fe-433a-d937-dec172990126"
      },
      "execution_count": null,
      "outputs": [
        {
          "output_type": "execute_result",
          "data": {
            "text/plain": [
              "3.141592653589793"
            ]
          },
          "metadata": {},
          "execution_count": 283
        }
      ]
    },
    {
      "cell_type": "code",
      "source": [
        "math.pow(2, 8)"
      ],
      "metadata": {
        "colab": {
          "base_uri": "https://localhost:8080/"
        },
        "id": "e4f288Zyu-oz",
        "outputId": "fd728ead-dc31-4c2c-ff0f-c08a91954217"
      },
      "execution_count": null,
      "outputs": [
        {
          "output_type": "execute_result",
          "data": {
            "text/plain": [
              "256.0"
            ]
          },
          "metadata": {},
          "execution_count": 284
        }
      ]
    },
    {
      "cell_type": "markdown",
      "source": [
        "Hi ha altres maneres d’importar funcions o mòduls. Si només vols una funció específica del mòdul, pots fer una importació selectiva amb la instrucció `from`.\n",
        "\n",
        "Per exemple, per importar només la funció `radians()`:\n"
      ],
      "metadata": {
        "id": "LTqOq-SjvERY"
      }
    },
    {
      "cell_type": "code",
      "source": [
        "from math import radians\n",
        "radians(4)"
      ],
      "metadata": {
        "colab": {
          "base_uri": "https://localhost:8080/"
        },
        "id": "ELD-oho1vD0B",
        "outputId": "ac6a4b8b-3251-4bc6-c47f-b5965166fd4c"
      },
      "execution_count": null,
      "outputs": [
        {
          "output_type": "execute_result",
          "data": {
            "text/plain": [
              "0.06981317007977318"
            ]
          },
          "metadata": {},
          "execution_count": 285
        }
      ]
    },
    {
      "cell_type": "markdown",
      "source": [
        "Un avantatge d'importar només una funció o variable és que no cal utilitzar el prefix `math.`. Alguns usuaris de Python van un pas més enllà utilitzant un comodí (`*`), que importa tot el mòdul. És a dir, escriuen `from math import *`. Això importa totes les funcions i variables i permet a l'usuari utilitzar-les sense el prefix `math.`. L'inconvenient és que podríeu sobreescriure accidentalment una variable al vostre codi d'aquesta manera. A menys que estigueu absolutament segurs que coneixeu totes les funcions i variables d'un mòdul i que no sobreescriurà cap variable del vostre codi, no utilitzeu la importació `*`. Pensant-ho bé, eviteu utilitzar la importació `*` de totes maneres."
      ],
      "metadata": {
        "id": "x4JPqGkjvGrx"
      }
    },
    {
      "cell_type": "markdown",
      "source": [
        "## 1.2 Variables\n",
        "\n",
        "Quan fas càlculs, sovint és útil guardar els valors en *variables* per reutilitzar-los. Això estalvia temps i fa que qualsevol canvi es propagui automàticament a tot el codi.\n",
        "\n",
        "\n"
      ],
      "metadata": {
        "id": "WrTPpjppvKDX"
      }
    },
    {
      "cell_type": "markdown",
      "source": [
        "### 1.2.1 Assignació i nom de variables\n",
        "\n",
        "L'assignació d'un valor a una variable s'anomena *assignació* i es realitza mitjançant un únic signe igual (`=`). A continuació, s'assignen `5.0` i `3` a les variables `a` i `b`, respectivament. Aleshores, es poden realitzar operacions matemàtiques amb les variables tal com es fa amb els valors numèrics."
      ],
      "metadata": {
        "id": "EZo4VdyCClyI"
      }
    },
    {
      "cell_type": "code",
      "source": [
        "a = 5.0\n",
        "b = 3"
      ],
      "metadata": {
        "id": "qmK3x1cHvMz0"
      },
      "execution_count": null,
      "outputs": []
    },
    {
      "cell_type": "code",
      "source": [
        "a + b"
      ],
      "metadata": {
        "colab": {
          "base_uri": "https://localhost:8080/"
        },
        "id": "aP_EiJFdvNwZ",
        "outputId": "3d4d7cce-3cf1-4549-e8ef-1430b60176df"
      },
      "execution_count": null,
      "outputs": [
        {
          "output_type": "execute_result",
          "data": {
            "text/plain": [
              "8.0"
            ]
          },
          "metadata": {},
          "execution_count": 287
        }
      ]
    },
    {
      "cell_type": "markdown",
      "source": [
        "Les variables poden ser gairebé qualsevol cadena de caràcters sempre que comencin amb una lletra, no continguin un operador (vegeu la Taula 1) i no estiguin incloses a la llista de paraules reservades de Python que es mostra a la Taula 4. També és important no utilitzar una variable dues vegades, ja que això sobreescriurà el primer valor. Els mòduls i les funcions també s'adjunten a les variables, de manera que si heu importat el mòdul `math`, el mòdul s'adjunta a la variable `math`.\n",
        "\n",
        "**Table 4** Paraules reservades de Python\n",
        "\n",
        "|     |    |        |             |          |          |\n",
        "|:--: |:--:| :----: |  :-------:  |:------:  | :------: |\n",
        "| `and` | `as` | `assert` |`break` |`class` |`continue` |\n",
        "|`def` |`del` |`elif` |`else` |`except` |`False` |\n",
        "|`finally` |`for` |`from` |`global` |`if` |`import` |\n",
        "|`in` |`is`|`lambda` |`None` |`nonlocal` |`not` |\n",
        "|`or` |`pass` |`raise` |`Return` |`True` |`try` |\n",
        "|`why` |`with` |`yield` |  |  |  |\n",
        "\n",
        "\n",
        "També és del vostre interès crear noms de variables que indiquin clarament què contenen si és més que un exemple genèric (com el que s'utilitza en aquest llibre) o un experiment. Això facilitarà significativament l'escriptura i la lectura de codi i és un bon hàbit per començar aviat. En els exemples següents, un lector podria determinar que el primer exemple calcula l'energia utilitzant $E = mc^2$, mentre que és més difícil determinar què calcula el segon exemple."
      ],
      "metadata": {
        "id": "vyQXB_VHvPU9"
      }
    },
    {
      "cell_type": "code",
      "source": [
        "# Variables clarament identificables\n",
        "\n",
        "mass = 1.6\n",
        "light_speed = 3.0e8\n",
        "mass * light_speed**2"
      ],
      "metadata": {
        "colab": {
          "base_uri": "https://localhost:8080/"
        },
        "id": "SwDTMY4BvRuz",
        "outputId": "b7df8480-b7ba-4761-f3e1-1ccb4687ea5e"
      },
      "execution_count": null,
      "outputs": [
        {
          "output_type": "execute_result",
          "data": {
            "text/plain": [
              "1.44e+17"
            ]
          },
          "metadata": {},
          "execution_count": 288
        }
      ]
    },
    {
      "cell_type": "code",
      "source": [
        "# Variables amb noms poc informatius\n",
        "\n",
        "x = 3.2\n",
        "a = 1.77\n",
        "a + x"
      ],
      "metadata": {
        "colab": {
          "base_uri": "https://localhost:8080/"
        },
        "id": "w_Xw-C2MvS9P",
        "outputId": "1cd7537d-23c4-48d8-fb29-f403170de690"
      },
      "execution_count": null,
      "outputs": [
        {
          "output_type": "execute_result",
          "data": {
            "text/plain": [
              "4.970000000000001"
            ]
          },
          "metadata": {},
          "execution_count": 289
        }
      ]
    },
    {
      "cell_type": "markdown",
      "source": [
        "### 1.2.2 Assignació composta\n",
        "\n",
        "Una variable es pot assignar a una altra variable tal com es mostra a continuació. Quan això passa, a ambdues variables se'ls assigna el mateix valor, cosa que no és particularment sorprenent."
      ],
      "metadata": {
        "id": "TMQL0YYjvV-S"
      }
    },
    {
      "cell_type": "code",
      "source": [
        "x = 5\n",
        "y = x"
      ],
      "metadata": {
        "id": "PZ0AD40UvXaF"
      },
      "execution_count": null,
      "outputs": []
    },
    {
      "cell_type": "code",
      "source": [
        "y"
      ],
      "metadata": {
        "colab": {
          "base_uri": "https://localhost:8080/"
        },
        "id": "Xotv_cTOvYYq",
        "outputId": "95e6f886-3b26-479e-9c98-5dbc0bf7e99e"
      },
      "execution_count": null,
      "outputs": [
        {
          "output_type": "execute_result",
          "data": {
            "text/plain": [
              "5"
            ]
          },
          "metadata": {},
          "execution_count": 291
        }
      ]
    },
    {
      "cell_type": "markdown",
      "source": [
        "Tanmateix, observeu què passa si a la primera variable, `x`, s'assigna un nou valor."
      ],
      "metadata": {
        "id": "XIwMhBEwva9v"
      }
    },
    {
      "cell_type": "code",
      "source": [
        "x = 8"
      ],
      "metadata": {
        "id": "SRZJctzSvaRN"
      },
      "execution_count": null,
      "outputs": []
    },
    {
      "cell_type": "code",
      "source": [
        "y"
      ],
      "metadata": {
        "colab": {
          "base_uri": "https://localhost:8080/"
        },
        "id": "tshWK-Hwvdo6",
        "outputId": "17726bcc-44a5-4c3e-f729-33a8ccf15c36"
      },
      "execution_count": null,
      "outputs": [
        {
          "output_type": "execute_result",
          "data": {
            "text/plain": [
              "5"
            ]
          },
          "metadata": {},
          "execution_count": 293
        }
      ]
    },
    {
      "cell_type": "markdown",
      "source": [
        "En comptes que `y` s'actualitzi al nou valor, encara conté el primer valor. Això és degut a que en comptes d'assignar `y` a `x`, el valor 5 es va assignar directament a `y`. Entre bastidors, Python gestiona l'assignació creant un punter que connecta un nom de variable a un valor a la memòria de l'ordinador."
      ],
      "metadata": {
        "id": "GSkSN7vVvi0L"
      }
    },
    {
      "cell_type": "markdown",
      "source": [
        "## 1.3 Strings (cadenes)\n",
        "\n",
        "Els nombres enters i els nombres en coma flotant són mitjans per emmagatzemar dades numèriques. L'altre tipus important de dades és el text, que s'emmagatzema com una cadena de caràcters coneguda simplement com a *cadena*. Les cadenes poden contenir una varietat de caràcters, com ara lletres, números i símbols, i s'identifiquen amb cometes simples o dobles."
      ],
      "metadata": {
        "id": "iUqGu4rEv3eJ"
      }
    },
    {
      "cell_type": "code",
      "source": [
        "'text aleatori'"
      ],
      "metadata": {
        "colab": {
          "base_uri": "https://localhost:8080/",
          "height": 35
        },
        "id": "eYP3FNhDv46k",
        "outputId": "d37bd3a6-e326-4813-ba26-db002db1812e"
      },
      "execution_count": null,
      "outputs": [
        {
          "output_type": "execute_result",
          "data": {
            "text/plain": [
              "'text aleatori'"
            ],
            "application/vnd.google.colaboratory.intrinsic+json": {
              "type": "string"
            }
          },
          "metadata": {},
          "execution_count": 294
        }
      ]
    },
    {
      "cell_type": "markdown",
      "source": [
        "### 1.3.1 Creació d'una cadena\n",
        "\n",
        "La manera més senzilla de crear una cadena és tancar el text entre cometes simples o dobles, i es pot assignar una cadena a variables com ara nombres enters i nombres flotants. Perquè Python imprimeixi el text, utilitzeu la funció `print()`."
      ],
      "metadata": {
        "id": "mSb1DX1Ov67l"
      }
    },
    {
      "cell_type": "code",
      "source": [
        "text = \"text aleatori\""
      ],
      "metadata": {
        "id": "HHWox7Nxv8Iy"
      },
      "execution_count": null,
      "outputs": []
    },
    {
      "cell_type": "code",
      "source": [
        "print(text)"
      ],
      "metadata": {
        "colab": {
          "base_uri": "https://localhost:8080/"
        },
        "id": "uKbcOTzgv9N2",
        "outputId": "fcf72be3-66a2-4f8f-c99f-2f27c6ffa8ac"
      },
      "execution_count": null,
      "outputs": [
        {
          "output_type": "stream",
          "name": "stdout",
          "text": [
            "text aleatori\n"
          ]
        }
      ]
    },
    {
      "cell_type": "markdown",
      "source": [
        "També es poden crear cadenes convertint un nombre enter o un nombre flotant en una cadena mitjançant la funció `str()`."
      ],
      "metadata": {
        "id": "o3zr13MWv_p7"
      }
    },
    {
      "cell_type": "code",
      "source": [
        "str(4)"
      ],
      "metadata": {
        "colab": {
          "base_uri": "https://localhost:8080/",
          "height": 35
        },
        "id": "VePMDdnSwA0M",
        "outputId": "540a1b52-ba05-4162-b475-9a69f8432d99"
      },
      "execution_count": null,
      "outputs": [
        {
          "output_type": "execute_result",
          "data": {
            "text/plain": [
              "'4'"
            ],
            "application/vnd.google.colaboratory.intrinsic+json": {
              "type": "string"
            }
          },
          "metadata": {},
          "execution_count": 297
        }
      ]
    },
    {
      "cell_type": "markdown",
      "source": [
        "Tot i que un nombre pot estar contingut en una cadena, Python no hi realitzarà operacions matemàtiques perquè veu qualsevol cosa en una cadena com una sèrie de caràcters i res més. Com es pot veure a continuació, en intentar sumar `'4'` i `'2'`, en lloc de fer una suma matemàtica, Python concatena les dues cadenes. De la mateixa manera, en intentar multiplicar `'4'` per `'2'`, Python retorna la cadena dues vegades i les concatena. Aquestes són maneres de combinar o allargar cadenes, però no es realitzen operacions matemàtiques reals."
      ],
      "metadata": {
        "id": "Nann1j_-wCh8"
      }
    },
    {
      "cell_type": "code",
      "source": [
        "'4' + '2'"
      ],
      "metadata": {
        "colab": {
          "base_uri": "https://localhost:8080/",
          "height": 35
        },
        "id": "vkJIr-xtwEYf",
        "outputId": "9589b05f-30eb-4e24-cb8a-f5f6486d44f2"
      },
      "execution_count": null,
      "outputs": [
        {
          "output_type": "execute_result",
          "data": {
            "text/plain": [
              "'42'"
            ],
            "application/vnd.google.colaboratory.intrinsic+json": {
              "type": "string"
            }
          },
          "metadata": {},
          "execution_count": 298
        }
      ]
    },
    {
      "cell_type": "code",
      "source": [
        "'4' * 2"
      ],
      "metadata": {
        "colab": {
          "base_uri": "https://localhost:8080/",
          "height": 35
        },
        "id": "HJ2ZMPc7wGwu",
        "outputId": "2b3a3b62-2049-4fe0-9af5-dfdab7259dec"
      },
      "execution_count": null,
      "outputs": [
        {
          "output_type": "execute_result",
          "data": {
            "text/plain": [
              "'44'"
            ],
            "application/vnd.google.colaboratory.intrinsic+json": {
              "type": "string"
            }
          },
          "metadata": {},
          "execution_count": 299
        }
      ]
    },
    {
      "cell_type": "markdown",
      "source": [
        "Si es multipliquen dues cadenes, Python retorna un error. Aquest és un problema que es troba habitualment en importar dades numèriques d'un document de text. El remei és convertir la(es) cadena(es) en nombres mitjançant les funcions `float()` o `int()`."
      ],
      "metadata": {
        "id": "V5ICiMDOwIVS"
      }
    },
    {
      "cell_type": "code",
      "source": [
        "int('4') * int('2')"
      ],
      "metadata": {
        "colab": {
          "base_uri": "https://localhost:8080/"
        },
        "id": "FwUM-Z89wLY_",
        "outputId": "03532be9-361a-4c4b-e784-35dce1b0772f"
      },
      "execution_count": null,
      "outputs": [
        {
          "output_type": "execute_result",
          "data": {
            "text/plain": [
              "8"
            ]
          },
          "metadata": {},
          "execution_count": 300
        }
      ]
    },
    {
      "cell_type": "markdown",
      "source": [
        "### 1.3.2 Format de cadenes\n",
        "\n",
        "Abans hem pogut concatenar dues cadenes utilitzant l'operador `+` tal com es mostra a continuació. Amb aquest enfocament, cal convertir qualsevol que no sigui una cadena en una cadena utilitzant la funció `str()`."
      ],
      "metadata": {
        "id": "HoycFBNuwmJd"
      }
    },
    {
      "cell_type": "code",
      "source": [
        "MW = 63.21\n",
        "\"Molecular mass = \" + str(MW) + \" g/mol.\""
      ],
      "metadata": {
        "colab": {
          "base_uri": "https://localhost:8080/",
          "height": 35
        },
        "id": "B-Czyve5wnce",
        "outputId": "ab7949ac-49bb-49ea-f15c-e21eabcad9c4"
      },
      "execution_count": null,
      "outputs": [
        {
          "output_type": "execute_result",
          "data": {
            "text/plain": [
              "'Molecular mass = 63.21 g/mol.'"
            ],
            "application/vnd.google.colaboratory.intrinsic+json": {
              "type": "string"
            }
          },
          "metadata": {},
          "execution_count": 301
        }
      ]
    },
    {
      "cell_type": "markdown",
      "source": [
        "Tot i que aquest mètode normalment funciona bé, pot resultar complicat o difícil de manejar a mesura que combineu més cadenes. En aquesta secció, tractarem un parell de mètodes més per fusionar cadenes. El que trieu utilitzar és una qüestió de preferència personal, però és bo tenir-ne en compte, ja que els podeu veure.\n",
        "\n",
        "#### Mètode `str.format()`\n",
        "\n",
        "El primer mètode que abordarem és l'ús del mètode `str.format()`. En aquest mètode, la cadena (és a dir, `str`) inclou claudàtors `{}` on voleu inserir cadenes addicionals, i aquestes cadenes addicionals es proporcionen com a arguments a la funció `str.format()`. Com a exemple, a continuació generem una frase que proporciona el nom i el pes molecular d'un compost. Observeu com s'insereix `compound` a la frase on es troba el primer `{}` mentre que `MW` s'insereix a la ubicació del segon `{}`."
      ],
      "metadata": {
        "id": "YpIjgd0cwqPI"
      }
    },
    {
      "cell_type": "code",
      "source": [
        "compound = 'ammonia'\n",
        "MW = 17.03\n",
        "\n",
        "'The molar mass of {} is {} g/mol.'.format(compound, MW)"
      ],
      "metadata": {
        "colab": {
          "base_uri": "https://localhost:8080/",
          "height": 35
        },
        "id": "RaTTmM3ywr0o",
        "outputId": "40a3ac58-2c5b-407b-c287-15fc179a2682"
      },
      "execution_count": null,
      "outputs": [
        {
          "output_type": "execute_result",
          "data": {
            "text/plain": [
              "'The molar mass of ammonia is 17.03 g/mol.'"
            ],
            "application/vnd.google.colaboratory.intrinsic+json": {
              "type": "string"
            }
          },
          "metadata": {},
          "execution_count": 302
        }
      ]
    },
    {
      "cell_type": "markdown",
      "source": [
        "Si assignem les variables `compound` i `MW` a altres valors, la funció `str.format()` insereix diligentment aquestes noves cadenes a la nostra frase. També cal tenir en compte que la funció `format()` converteix automàticament els objectes que no són cadenes en cadenes per a nosaltres."
      ],
      "metadata": {
        "id": "si8-vIyFwtn9"
      }
    },
    {
      "cell_type": "code",
      "source": [
        "compound = 'urea'\n",
        "MW = 60.06\n",
        "\n",
        "'The molar mass of {} is {} g/mol.'.format(compound, MW)"
      ],
      "metadata": {
        "colab": {
          "base_uri": "https://localhost:8080/",
          "height": 35
        },
        "id": "tY1UZsu7wtUX",
        "outputId": "ff931ca5-1738-4ee1-c4d1-975694cbef20"
      },
      "execution_count": null,
      "outputs": [
        {
          "output_type": "execute_result",
          "data": {
            "text/plain": [
              "'The molar mass of urea is 60.06 g/mol.'"
            ],
            "application/vnd.google.colaboratory.intrinsic+json": {
              "type": "string"
            }
          },
          "metadata": {},
          "execution_count": 303
        }
      ]
    },
    {
      "cell_type": "markdown",
      "source": [
        "Una variació de l'enfocament anterior és incloure un valor d'índex dins dels claudàtors que indiqui quina cadena proporcionada a la funció `str.format()` s'insereix en quin lloc de la frase. A l'exemple següent, `compound` es proporciona primer a la funció `str.format()`, de manera que substitueix `{0}` mentre que `MW` és el segon, de manera que substitueix `{1}`. Recordeu que els valors d'índex de Python comencen amb zero."
      ],
      "metadata": {
        "id": "XLvPiyvmwxfn"
      }
    },
    {
      "cell_type": "code",
      "source": [
        "compound = 'urea'\n",
        "MW = 60.06\n",
        "\n",
        "'The molar mass of {0} is {1} g/mol.'.format(compound, MW)"
      ],
      "metadata": {
        "colab": {
          "base_uri": "https://localhost:8080/",
          "height": 35
        },
        "id": "R6tB72BZw1pE",
        "outputId": "944c2822-4324-478c-b117-0571319fe4c5"
      },
      "execution_count": null,
      "outputs": [
        {
          "output_type": "execute_result",
          "data": {
            "text/plain": [
              "'The molar mass of urea is 60.06 g/mol.'"
            ],
            "application/vnd.google.colaboratory.intrinsic+json": {
              "type": "string"
            }
          },
          "metadata": {},
          "execution_count": 304
        }
      ]
    },
    {
      "cell_type": "markdown",
      "source": [
        "Com que estem proporcionant explícitament valors d'índex, podem inserir cadenes a la seqüència en qualsevol ordre. Fixeu-vos en l'exemple següent que les variables `MW` i `compound` es proporcionen a la funció en un ordre diferent."
      ],
      "metadata": {
        "id": "ZsttKYbDw3LS"
      }
    },
    {
      "cell_type": "code",
      "source": [
        "'The molar mass of {1} is {0} g/mol.'.format(MW, compound)"
      ],
      "metadata": {
        "colab": {
          "base_uri": "https://localhost:8080/",
          "height": 35
        },
        "id": "h_CoGpwzw4er",
        "outputId": "53810a94-6969-4554-ed92-087a4d8f8084"
      },
      "execution_count": null,
      "outputs": [
        {
          "output_type": "execute_result",
          "data": {
            "text/plain": [
              "'The molar mass of urea is 60.06 g/mol.'"
            ],
            "application/vnd.google.colaboratory.intrinsic+json": {
              "type": "string"
            }
          },
          "metadata": {},
          "execution_count": 305
        }
      ]
    },
    {
      "cell_type": "markdown",
      "source": [
        "També podem inserir cadenes de text a la nostra frase diverses vegades, tal com es mostra a continuació."
      ],
      "metadata": {
        "id": "l7f5D1FRw6o6"
      }
    },
    {
      "cell_type": "code",
      "source": [
        "'The compound {0} is a molecular compound \\\n",
        "and {0} has a molar mass of {1} g/mol.'.format(compound, MW)"
      ],
      "metadata": {
        "colab": {
          "base_uri": "https://localhost:8080/",
          "height": 35
        },
        "id": "GAEkNVVJw79D",
        "outputId": "abaa7805-3e74-4f42-aa91-c0b93e67bf7b"
      },
      "execution_count": null,
      "outputs": [
        {
          "output_type": "execute_result",
          "data": {
            "text/plain": [
              "'The compound urea is a molecular compound and urea has a molar mass of 60.06 g/mol.'"
            ],
            "application/vnd.google.colaboratory.intrinsic+json": {
              "type": "string"
            }
          },
          "metadata": {},
          "execution_count": 306
        }
      ]
    },
    {
      "cell_type": "markdown",
      "source": [
        "## 1.4 Llistes i tuples\n",
        "\n",
        "Fins ara, només hem tractat amb valors individuals o cadenes. És habitual treballar amb una col·lecció de valors com ara les masses atòmiques mitjanes dels elements químics, però és inconvenient assignar cada valor a la seva pròpia variable. En canvi, els valors es poden col·locar en una llista o tupla. Les *llistes* i les *tuples* són col·leccions d'*elements*, com ara nombres o cadenes, amb la diferència clau que una llista es pot modificar mentre que una tupla no. Es diu que una tupla és *immutable* ja que no es pot canviar un cop creada. No és sorprenent que les llistes siguin sovint més útils que les tuples."
      ],
      "metadata": {
        "id": "Je0eyG2VxAr9"
      }
    },
    {
      "cell_type": "markdown",
      "source": [
        "### 1.4.1 Creació de llistes\n",
        "\n",
        "Una llista es crea col·locant elements entre claudàtors. A continuació, es crea la llista anomenada `massa` que conté la massa atòmica dels primers sis elements químics."
      ],
      "metadata": {
        "id": "mW7QrYqbCMi5"
      }
    },
    {
      "cell_type": "code",
      "source": [
        "mass = [1.01, 4.00, 6.94, 0.01, 10.81, 12.01]"
      ],
      "metadata": {
        "id": "6_6TmOkjxDxs"
      },
      "execution_count": null,
      "outputs": []
    },
    {
      "cell_type": "code",
      "source": [
        "mass"
      ],
      "metadata": {
        "colab": {
          "base_uri": "https://localhost:8080/"
        },
        "id": "YLTpcVhSxEvG",
        "outputId": "2455da16-be39-4147-c7da-27c38376229a"
      },
      "execution_count": null,
      "outputs": [
        {
          "output_type": "execute_result",
          "data": {
            "text/plain": [
              "[1.01, 4.0, 6.94, 0.01, 10.81, 12.01]"
            ]
          },
          "metadata": {},
          "execution_count": 308
        }
      ]
    },
    {
      "cell_type": "markdown",
      "source": [
        "Una sola llista pot contenir diversos tipus d'objectes. A sota es crea una llista anomenada `EN` per emmagatzemar els valors d'electronegativitat de Pauling per als primers sis elements de la taula periòdica. La llista conté principalment caràcters de tipus float, però com que el valor de He no està disponible en aquest exemple, resideix una cadena ``NA`` on hi hauria un valor."
      ],
      "metadata": {
        "id": "biAwbhzlxIRM"
      }
    },
    {
      "cell_type": "code",
      "source": [
        "EN = [2.1, 'NA', 1.0, 1.5, 2.0, 2.5]"
      ],
      "metadata": {
        "id": "AXTmHMKkxKDG"
      },
      "execution_count": null,
      "outputs": []
    },
    {
      "cell_type": "code",
      "source": [
        "EN"
      ],
      "metadata": {
        "colab": {
          "base_uri": "https://localhost:8080/"
        },
        "id": "lBtaEDwixLIe",
        "outputId": "657d1db5-c71a-4cb6-b4b6-2c1b9cf21224"
      },
      "execution_count": null,
      "outputs": [
        {
          "output_type": "execute_result",
          "data": {
            "text/plain": [
              "[2.1, 'NA', 1.0, 1.5, 2.0, 2.5]"
            ]
          },
          "metadata": {},
          "execution_count": 310
        }
      ]
    },
    {
      "cell_type": "markdown",
      "source": [
        "### 1.4.2 Indexació i segmentació de llistes\n",
        "\n",
        "La *indexació* s'utilitza per accedir a elements individuals d'una llista, i aquest mètode és similar a la indexació de cadenes, tal com es mostra a continuació. L'índex és la posició a la llista d'un objecte determinat i, de nou, la **numeració de l'índex comença amb zero**. L'accés a un element d'una llista es fa col·locant l'índex numèric de l'element que volem entre claudàtors darrere del nom de la llista. Per exemple, si volem el primer element de la llista d'electronegativitat (`EN`), fem servir `EN[0]`, mentre que `EN[1]` proporciona el segon element i així successivament."
      ],
      "metadata": {
        "id": "GlrK4gBQxPE6"
      }
    },
    {
      "cell_type": "code",
      "source": [
        "EN[0]"
      ],
      "metadata": {
        "colab": {
          "base_uri": "https://localhost:8080/"
        },
        "id": "v4Aa9MPLxQm9",
        "outputId": "6aed4e5b-8085-4e07-e4e7-fc60822071fb"
      },
      "execution_count": null,
      "outputs": [
        {
          "output_type": "execute_result",
          "data": {
            "text/plain": [
              "2.1"
            ]
          },
          "metadata": {},
          "execution_count": 311
        }
      ]
    },
    {
      "cell_type": "code",
      "source": [
        "EN[1]"
      ],
      "metadata": {
        "colab": {
          "base_uri": "https://localhost:8080/",
          "height": 35
        },
        "id": "C7-6dTXWxRhW",
        "outputId": "7b2634e0-21fb-418b-b1c9-90dcfa111d6c"
      },
      "execution_count": null,
      "outputs": [
        {
          "output_type": "execute_result",
          "data": {
            "text/plain": [
              "'NA'"
            ],
            "application/vnd.google.colaboratory.intrinsic+json": {
              "type": "string"
            }
          },
          "metadata": {},
          "execution_count": 312
        }
      ]
    },
    {
      "cell_type": "markdown",
      "source": [
        "Es poden recuperar diversos elements alhora incloent els índexs d'inici i final separats per dos punts. Igual que en les cadenes de text, aquest procés es coneix com a *slicing*. Una convenció que es produeix a tot Python és que el primer índex s'inclou però el segon no, `[inclòs : exclòs : pas]`."
      ],
      "metadata": {
        "id": "F_v5BWymxTLz"
      }
    },
    {
      "cell_type": "code",
      "source": [
        "EN[0:3]"
      ],
      "metadata": {
        "colab": {
          "base_uri": "https://localhost:8080/"
        },
        "id": "jQmwcXZcxVNu",
        "outputId": "6286515f-cab3-490b-b571-29cc94dbb7a8"
      },
      "execution_count": null,
      "outputs": [
        {
          "output_type": "execute_result",
          "data": {
            "text/plain": [
              "[2.1, 'NA', 1.0]"
            ]
          },
          "metadata": {},
          "execution_count": 313
        }
      ]
    },
    {
      "cell_type": "code",
      "source": [
        "EN[3:5]"
      ],
      "metadata": {
        "colab": {
          "base_uri": "https://localhost:8080/"
        },
        "id": "D5_k7YtexWUL",
        "outputId": "5dfa6a12-bbc9-4d9c-9fc0-976533123682"
      },
      "execution_count": null,
      "outputs": [
        {
          "output_type": "execute_result",
          "data": {
            "text/plain": [
              "[1.5, 2.0]"
            ]
          },
          "metadata": {},
          "execution_count": 314
        }
      ]
    },
    {
      "cell_type": "markdown",
      "source": [
        "Igual que amb les cadenes de text, si volem que tot arribi al final, no proporcionem un índex de parada."
      ],
      "metadata": {
        "id": "13KOe4ABxYFB"
      }
    },
    {
      "cell_type": "code",
      "source": [
        "EN[3:]"
      ],
      "metadata": {
        "colab": {
          "base_uri": "https://localhost:8080/"
        },
        "id": "LGZp_fdHxZJ-",
        "outputId": "7e8c3dc8-70c9-4af5-e3cc-4c56ec92a180"
      },
      "execution_count": null,
      "outputs": [
        {
          "output_type": "execute_result",
          "data": {
            "text/plain": [
              "[1.5, 2.0, 2.5]"
            ]
          },
          "metadata": {},
          "execution_count": 315
        }
      ]
    },
    {
      "cell_type": "markdown",
      "source": [
        "### 1.4.3 Objectes `range`\n",
        "\n",
        "És habitual necessitar una sèrie seqüencial de valors en un rang específic. L'usuari pot escriure manualment aquests valors en una llista, però la programació informàtica consisteix a fer que l'ordinador faci la feina difícil per tu. Python inclou una funció anomenada `range()` que generarà una sèrie de valors en el rang desitjat. La funció `range()` requereix almenys un argument per indicar-li quin ha de ser l'interval. Per exemple, `range(10)` genera valors fins a 10 (excloent-hi 10)."
      ],
      "metadata": {
        "id": "Q_PR_CSUxmpG"
      }
    },
    {
      "cell_type": "code",
      "source": [
        "a = range(10)\n",
        "print(a)"
      ],
      "metadata": {
        "colab": {
          "base_uri": "https://localhost:8080/"
        },
        "id": "z2ChtPd_xoIm",
        "outputId": "409af20d-d620-42cd-baf7-c4bbd11878b3"
      },
      "execution_count": null,
      "outputs": [
        {
          "output_type": "stream",
          "name": "stdout",
          "text": [
            "range(0, 10)\n"
          ]
        }
      ]
    },
    {
      "cell_type": "markdown",
      "source": [
        "La sortida de `a` probablement no és la que esperàveu. Probablement esperàveu una llista de 0 $\\rightarrow$ 9, que és el que solia passar abans. Ara, Python genera un objecte *range* que substitueix una llista perquè requereix menys memòria. Si voleu una llista real a partir d'això, només cal que la convertiu amb la funció `list()`."
      ],
      "metadata": {
        "id": "60rYmcXyxpsG"
      }
    },
    {
      "cell_type": "code",
      "source": [
        "list(a)"
      ],
      "metadata": {
        "colab": {
          "base_uri": "https://localhost:8080/"
        },
        "id": "rOraSTqsxqzp",
        "outputId": "e3763563-0b7c-4ca3-a639-e9637dce0d31"
      },
      "execution_count": null,
      "outputs": [
        {
          "output_type": "execute_result",
          "data": {
            "text/plain": [
              "[0, 1, 2, 3, 4, 5, 6, 7, 8, 9]"
            ]
          },
          "metadata": {},
          "execution_count": 317
        }
      ]
    },
    {
      "cell_type": "markdown",
      "source": [
        "## 1.5 Bucles\n",
        "\n",
        "Els *bucles* permeten als programes reexecutar el mateix bloc de codi diverses vegades. Això és important perquè sovint hi ha seccions de codi que s'han d'executar nombroses vegades, de vegades arribant a milers. Si haguéssim d'incloure una còpia separada del mateix codi cada vegada que s'executa, els nostres scripts serien excessivament grans.\n",
        "\n"
      ],
      "metadata": {
        "id": "w7BwUlcsx_k_"
      }
    },
    {
      "cell_type": "markdown",
      "source": [
        "### 1.5.1 Bucles `for`\n",
        "\n",
        "El bucle `for` és probablement el bucle més comú que trobareu. Sovint s'utilitza per iterar sobre un objecte de diversos elements com ara llistes o tuples, i per a cada element, s'executa el bloc de codi indentat següent. Per exemple:"
      ],
      "metadata": {
        "id": "TYmRYIXqCTs_"
      }
    },
    {
      "cell_type": "code",
      "source": [
        "for value in [4, 6, 2]:\n",
        "    print(2 * value)"
      ],
      "metadata": {
        "colab": {
          "base_uri": "https://localhost:8080/"
        },
        "id": "LvgW9pD7yCM5",
        "outputId": "b9918e92-a92a-44e3-8238-5b02b5932af2"
      },
      "execution_count": null,
      "outputs": [
        {
          "output_type": "stream",
          "name": "stdout",
          "text": [
            "8\n",
            "12\n",
            "4\n"
          ]
        }
      ]
    },
    {
      "cell_type": "markdown",
      "source": [
        "Durant el bucle `for`, cada element de la llista s'assigna a la variable `value` i després s'executa el codi següent. Essencialment, el que passa es mostra a continuació.\n",
        "\n",
        "~~~python\n",
        "value = 4\n",
        "print(2 * value)\n",
        "value = 6\n",
        "print(2 * value)\n",
        "value = 2\n",
        "print(2 * value)\n",
        "~~~\n",
        "\n",
        "Això ens permet realitzar operacions matemàtiques sobre cada element d'una llista o tupla. Si en comptes d'això intentem multiplicar la llista per dos, obtenim una llista del doble de llargada."
      ],
      "metadata": {
        "id": "yhlgUfTvyEWj"
      }
    },
    {
      "cell_type": "code",
      "source": [
        "2 * [4, 6, 2]"
      ],
      "metadata": {
        "colab": {
          "base_uri": "https://localhost:8080/"
        },
        "id": "QannTnvGyEBz",
        "outputId": "1b4f9975-2a34-4c30-c55f-bdcd2aa30091"
      },
      "execution_count": null,
      "outputs": [
        {
          "output_type": "execute_result",
          "data": {
            "text/plain": [
              "[4, 6, 2, 4, 6, 2]"
            ]
          },
          "metadata": {},
          "execution_count": 319
        }
      ]
    },
    {
      "cell_type": "markdown",
      "source": [
        "El bucle `for`, però, no modifica la llista original. Si volem una llista que contingui els quadrats dels valors d'una llista anterior, primer hem de crear una llista buida i afegir els valors quadrats a la llista."
      ],
      "metadata": {
        "id": "4U7HwcExyIMu"
      }
    },
    {
      "cell_type": "code",
      "source": [
        "numbers = [1, 2, 3, 4, 5, 6]  # original values\n",
        "squares = []  # an empty list\n",
        "\n",
        "for value in numbers:\n",
        "    squares.append(value**2)"
      ],
      "metadata": {
        "id": "6mZ6WvmqyKIv"
      },
      "execution_count": null,
      "outputs": []
    },
    {
      "cell_type": "code",
      "source": [
        "squares"
      ],
      "metadata": {
        "colab": {
          "base_uri": "https://localhost:8080/"
        },
        "id": "G54F_i0qyLl5",
        "outputId": "fb29ce5e-edae-4918-8955-71f8aa2503d7"
      },
      "execution_count": null,
      "outputs": [
        {
          "output_type": "execute_result",
          "data": {
            "text/plain": [
              "[1, 4, 9, 16, 25, 36]"
            ]
          },
          "metadata": {},
          "execution_count": 321
        }
      ]
    },
    {
      "cell_type": "markdown",
      "source": [
        "També podem iterar sobre objectes de rang i cadenes utilitzant bucles `for`. Recordeu que els objectes de rang no generen realment una llista, però sovint els podem tractar com si ho fessin. Per exemple, podem generar les longituds d'ona ($\\lambda$) de la sèrie de Balmer mitjançant la següent equació on $R_{\\infty}$ és la constant de Rydberg (1.097 $\\times$ 10$^{-2}$ nm$^{-1}$) i $n_i$ és el nombre quàntic principal inicial.\n",
        "\n",
        "$$ \\frac{1}{\\lambda} = R_{\\infty} \\left( \\frac{1}{4} - \\frac{1}{n_i^2} \\right) $$\n",
        "\n",
        "El codi següent genera les primeres cinc longituds d'ona (nm) de la sèrie de Balmer."
      ],
      "metadata": {
        "id": "sNXWSWeayOdi"
      }
    },
    {
      "cell_type": "code",
      "source": [
        "for n in range(3,8):\n",
        "    lam = 1 / (1.097e-2 * (0.25 - (1 / n**2)))\n",
        "    print(lam)"
      ],
      "metadata": {
        "colab": {
          "base_uri": "https://localhost:8080/"
        },
        "id": "mPXd3e34yQRI",
        "outputId": "8d9d715f-798d-4502-b77d-512524351472"
      },
      "execution_count": null,
      "outputs": [
        {
          "output_type": "stream",
          "name": "stdout",
          "text": [
            "656.3354603463993\n",
            "486.1744150714068\n",
            "434.084299170899\n",
            "410.2096627164995\n",
            "397.04243897498225\n"
          ]
        }
      ]
    },
    {
      "cell_type": "markdown",
      "source": [
        "## 1.6 Creació de funcions\n",
        "\n",
        "Després d'haver estat programant durant un temps, probablement us trobareu repetint les mateixes tasques. Per exemple, suposem que la vostra recerca us ha fet calcular repetidament la distància entre dos àtoms basant-vos en les seves coordenades *xyz*. Certament podríeu reescriure o copiar i enganxar el mateix codi cada vegada que necessiteu trobar la distància entre dos àtoms, però això sona horrible. Podeu evitar-ho creant la vostra pròpia funció que calculi la distància. D'aquesta manera, cada vegada que necessiteu calcular la distància entre un parell d'àtoms, podeu cridar la funció i s'executa la mateixa secció de codi que es troba a la funció. Només heu d'escriure el codi una vegada i després podeu executar-lo tantes vegades com necessiteu quan ho necessiteu.\n",
        "\n"
      ],
      "metadata": {
        "id": "yD5_NvrhyZ8q"
      }
    },
    {
      "cell_type": "markdown",
      "source": [
        "### 1.6.1 Funcions bàsiques\n",
        "\n",
        "Per crear la vostra pròpia funció, primer necessiteu un nom per a la funció. El nom ha de ser descriptiu del que fa i tenir sentit per a vosaltres i per a qualsevol persona que l'utilitzi. Si volem crear una funció per mesurar la distància entre dos àtoms, `distance` podria ser un bon nom per a la funció.\n",
        "\n",
        "La primera línia d'una definició de funció té el següent aspecte: l'instrucció `def` seguida del nom de la funció amb qualsevol informació, anomenada *arguments*, que s'introdueixi a la funció, i dos punts al final. En aquesta funció, li introduirem les coordenades *xyz* per a tots dos àtoms com a parell de llistes o tuples. Als parèntesis que segueixen el nom de la funció, col·loqueu els noms de les variables que vulgueu utilitzar per representar aquestes coordenades. Aquí utilitzarem `coords1` i `coords2`.\n",
        "\n",
        "~~~python\n",
        "def distance(coords1, coords2):\n",
        "~~~\n",
        "\n",
        "Tot el que hi ha dins d'una funció té una sagnia de quatre espais directament sota la primera línia. La distància entre dos punts en un espai 3D es descriu amb la següent equació.\n",
        "\n",
        "$$ \\sqrt{(Δx)^2 + (Δy)^2 + (Δz)^2} $$\n",
        "\n",
        "Ara es tracta de codificar això a la funció. Com que farem l'arrel quadrada, també hem d'importar el mòdul `math`."
      ],
      "metadata": {
        "id": "r6F0r-bHCY3L"
      }
    },
    {
      "cell_type": "code",
      "source": [
        "import math"
      ],
      "metadata": {
        "id": "pdeV2JI6ydmo"
      },
      "execution_count": null,
      "outputs": []
    },
    {
      "cell_type": "code",
      "source": [
        "def distance(coords1, coords2):\n",
        "# changes along the x, y, and z coordinates\n",
        "    dx = coords1[0] - coords2[0]\n",
        "    dy = coords1[1] - coords2[1]\n",
        "    dz = coords1[2] - coords2[2]\n",
        "\n",
        "    d = math.sqrt(dx**2 + dy**2 + dz**2)\n",
        "\n",
        "    print(f'The distance is: {d}')"
      ],
      "metadata": {
        "id": "kSF5bahcyeoc"
      },
      "execution_count": null,
      "outputs": []
    },
    {
      "cell_type": "markdown",
      "source": [
        "Si executeu el codi anterior, sembla que no passa res. Això és degut a que heu definit la funció però en realitat no l'heu fet servir mai. La crida a la nostra nova funció es fa de la mateixa manera que qualsevol altra funció a Python."
      ],
      "metadata": {
        "id": "zgd63NLOygiW"
      }
    },
    {
      "cell_type": "code",
      "source": [
        "distance((1, 2, 3), (4, 5, 6))"
      ],
      "metadata": {
        "colab": {
          "base_uri": "https://localhost:8080/"
        },
        "id": "zM0dIXN3ygNf",
        "outputId": "389e11c6-fcf5-4471-f071-7050207786d9"
      },
      "execution_count": null,
      "outputs": [
        {
          "output_type": "stream",
          "name": "stdout",
          "text": [
            "The distance is: 5.196152422706632\n"
          ]
        }
      ]
    },
    {
      "cell_type": "markdown",
      "source": [
        "Funciona! Aquesta funció imprimeix un missatge que indica la distància entre les dues coordenades *xyz*, i la millor part és que podem utilitzar-ho una vegada i una altra sense haver de tractar amb el codi de la funció."
      ],
      "metadata": {
        "id": "ixqz5p_SyomO"
      }
    },
    {
      "cell_type": "code",
      "source": [
        "distance((5, 2, 3), (7, 5.3, 9))"
      ],
      "metadata": {
        "colab": {
          "base_uri": "https://localhost:8080/"
        },
        "id": "zxrvEBQZyqCe",
        "outputId": "ff80e42e-5223-4d44-9188-25d84eb1a7f9"
      },
      "execution_count": null,
      "outputs": [
        {
          "output_type": "stream",
          "name": "stdout",
          "text": [
            "The distance is: 7.133722730804723\n"
          ]
        }
      ]
    },
    {
      "cell_type": "markdown",
      "source": [
        "### 1.6.2 Sentències `return`\n",
        "\n",
        "La funció `distance()` imprimeix un valor per a la distància, però què passa si volem utilitzar aquest valor per a un càlcul posterior? Potser volem calcular la mitjana de les distàncies entre diversos parells d'àtoms. Certament no volem tornar a escriure aquests valors a Python, així que en comptes d'això podem fer que la funció *retorni* el valor. Podeu pensar en les funcions com a petites màquines on els arguments entre parèntesis són l'entrada i el retorn al final de la funció és el que surt de la màquina. A continuació es mostra una versió modificada de la nostra funció `distance()` amb una instrucció `return` en lloc d'imprimir el valor. En executar el codi següent, se sobreescriu la funció original."
      ],
      "metadata": {
        "id": "odI9rFKnysrf"
      }
    },
    {
      "cell_type": "code",
      "source": [
        "def distance(coords1, coords2):\n",
        "# changes along the x, y, and z coordinates\n",
        "    dx = coords1[0] - coords2[0]\n",
        "    dy = coords1[1] - coords2[1]\n",
        "    dz = coords1[2] - coords2[2]\n",
        "\n",
        "    d = math.sqrt(dx**2 + dy**2 + dz**2)\n",
        "\n",
        "    return d"
      ],
      "metadata": {
        "id": "4kq2OOM4yuCY"
      },
      "execution_count": null,
      "outputs": []
    },
    {
      "cell_type": "code",
      "source": [
        "distance([5, 6, 7], [3, 2, 1])"
      ],
      "metadata": {
        "colab": {
          "base_uri": "https://localhost:8080/"
        },
        "id": "DBF8X7vryvcr",
        "outputId": "76c73aaf-2a88-4968-8d80-7554ba6aa577"
      },
      "execution_count": null,
      "outputs": [
        {
          "output_type": "execute_result",
          "data": {
            "text/plain": [
              "7.483314773547883"
            ]
          },
          "metadata": {},
          "execution_count": 328
        }
      ]
    },
    {
      "cell_type": "markdown",
      "source": [
        "Ara la funció retorna un nombre en flotant. Podem assignar-lo a una variable o afegir-lo a una llista per a un ús posterior."
      ],
      "metadata": {
        "id": "huXKnWsEyw9g"
      }
    },
    {
      "cell_type": "code",
      "source": [
        "dist = distance([5, 6, 7], [3, 2, 1])\n",
        "dist"
      ],
      "metadata": {
        "colab": {
          "base_uri": "https://localhost:8080/"
        },
        "id": "VbRVK0IuyyJa",
        "outputId": "b7bb4825-2f72-4a75-8334-51f201d9486e"
      },
      "execution_count": null,
      "outputs": [
        {
          "output_type": "execute_result",
          "data": {
            "text/plain": [
              "7.483314773547883"
            ]
          },
          "metadata": {},
          "execution_count": 329
        }
      ]
    },
    {
      "cell_type": "markdown",
      "source": [
        "A continuació es mostra el codi per iterar sobre una llista de parells de coordenades *xyz* i calcular les distàncies entre cada parell. Els valors s'afegeixen a una llista anomenada `dist_list` a partir de la qual es calcula la distància mitjana."
      ],
      "metadata": {
        "id": "joK192Imy0sI"
      }
    },
    {
      "cell_type": "code",
      "source": [
        "pairs = (((1, 2, 3),(2, 3, 4)),\n",
        "         ((3, 7, 1), (9, 3, 0)),\n",
        "         ((0, 0, 1), (5, 2, 7)))"
      ],
      "metadata": {
        "id": "rqwa_t9Ly2N3"
      },
      "execution_count": null,
      "outputs": []
    },
    {
      "cell_type": "code",
      "source": [
        "dist_list = []\n",
        "for pair in pairs:\n",
        "    dist = distance(pair[0], pair[1])\n",
        "    dist_list.append(dist)\n",
        "\n",
        "avg = sum(dist_list) / len(dist_list)\n",
        "avg"
      ],
      "metadata": {
        "colab": {
          "base_uri": "https://localhost:8080/"
        },
        "id": "fS59CboQy3iB",
        "outputId": "cb722343-19a2-4efa-fc63-36e0c5c59c4b"
      },
      "execution_count": null,
      "outputs": [
        {
          "output_type": "execute_result",
          "data": {
            "text/plain": [
              "5.691472815049315"
            ]
          },
          "metadata": {},
          "execution_count": 331
        }
      ]
    },
    {
      "cell_type": "markdown",
      "source": [
        "## Lectures addicionals\n",
        "Hi ha una gran quantitat de llibres i recursos, gratuïts i no, disponibles sobre el llenguatge de programació Python. A continuació es mostren diversos exemples. El recurs més autoritzat i actualitzat és la pàgina de documentació de la Python Software Foundation, que també es mostra a continuació.\n",
        "\n",
        "1. Pàgina de documentació de Python. [https://www.python.org/doc/](https://www.python.org/doc/) (recurs gratuït)\n",
        "2. Downey, Allen B. *Think Python*, Green Tea Press, 2012. [https://greenteapress.com/wp/think-python-2e/](https://greenteapress.com/wp/think-python-2e/) (recurs gratuït)\n",
        "3. Reitz, K.; Schlusser, T. *The Hitchider's Guide to Python: Best Practices for Development*, O'Reilly: Sebastopol, CA, 2016.\n",
        "4. Das, U; Lawson, A.; Mayfield, C.; Norouzi, N.; Rajasekhar, Y.; Kanemaru, R. *Introducció a la programació en Python*, Open Stax: Houston, TX, 2024. [https://openstax.org/details/books/introduction-python-programming](https://openstax.org/details/books/introduction-python-programming). (recurs gratuït)"
      ],
      "metadata": {
        "id": "EbOMBtgN1T9r"
      }
    }
  ]
}