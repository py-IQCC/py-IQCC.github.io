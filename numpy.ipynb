{
  "nbformat": 4,
  "nbformat_minor": 0,
  "metadata": {
    "colab": {
      "provenance": [],
      "authorship_tag": "ABX9TyPUhF+sTfO/ZIEHB4iNnhok",
      "include_colab_link": true
    },
    "kernelspec": {
      "name": "python3",
      "display_name": "Python 3"
    },
    "language_info": {
      "name": "python"
    }
  },
  "cells": [
    {
      "cell_type": "markdown",
      "metadata": {
        "id": "view-in-github",
        "colab_type": "text"
      },
      "source": [
        "<a href=\"https://colab.research.google.com/github/py-IQCC/py-IQCC.github.io/blob/main/numpy.ipynb\" target=\"_parent\"><img src=\"https://colab.research.google.com/assets/colab-badge.svg\" alt=\"Open In Colab\"/></a>"
      ]
    },
    {
      "cell_type": "markdown",
      "source": [
        "# Capítol 3: NumPy"
      ],
      "metadata": {
        "id": "ZSqts6GVz7NP"
      }
    },
    {
      "cell_type": "markdown",
      "source": [
        "NumPy és una biblioteca popular a l'ecosistema Python i un component crític de la pila SciPy. Tant és així que NumPy fins i tot s'inclou a la instal·lació per defecte de Python d'Apple i en altres aplicacions basades en Python com ara [Blender](https://www.blender.org/). Tot i que pot ser temptador treballar amb els objectes de NumPy com a llistes o circumnavegar la biblioteca NumPy per complet, el temps que es triga a aprendre les potents funcions de NumPy val la pena! Sovint us permetrà resoldre problemes amb menys esforç i temps i amb codi més curt i d'execució més ràpida. Això és degut a:\n",
        "\n",
        "- NumPy propaga automàticament les operacions a tots els valors d'una matriu en lloc de requerir bucles `for`\n",
        "\n",
        "- Una col·lecció massiva de funcions per treballar amb dades numèriques\n",
        "\n",
        "- Moltes de les funcions de NumPy són codi C embolicat en Python, cosa que les fa executar-se més ràpidament\n",
        "\n",
        "El paquet NumPy es pot importar mitjançant `import numpy`, però la comunitat científica de Python ha desenvolupat una convenció no oficial, però forta, d'importar NumPy utilitzant l'àlies `np`. És una qüestió de preferència personal si s'utilitza l'àlies o no, però es recomana fermament per coherència amb la resta de la comunitat. En lloc de `numpy.function()`, la funció es crida mitjançant l'abreviatura `np.function()`. Tot el codi NumPy d'aquest capítol i dels següents assumeix la següent importació."
      ],
      "metadata": {
        "id": "eCT6Sp8Jz9_l"
      }
    },
    {
      "cell_type": "code",
      "execution_count": 1,
      "metadata": {
        "id": "oRbWlHvyzuLq"
      },
      "outputs": [],
      "source": [
        "import numpy as np"
      ]
    },
    {
      "cell_type": "markdown",
      "source": [
        "## 4.1 Matrius NumPy\n",
        "\n",
        "Una de les principals contribucions de NumPy és *ndarray* (és a dir, \"matriu n-dimensional\"), *matriu NumPy* o simplement *matriu* per abreujar. Aquest és un objecte similar a una llista o llista imbricada de llistes, excepte que les operacions matemàtiques i les funcions NumPy es propaguen automàticament a cada element en lloc de requerir un bucle `for` per iterar-hi. A causa de la seva potència i comoditat, les matrius són el tipus d'objecte per defecte per a qualsevol operació realitzada amb NumPy i moltes biblioteques científiques que es basen en NumPy (per exemple, [SciPy](https://www.scipy.org/), [pandas](https://pandas.pydata.org/), [scikit-learn](https://scikit-learn.org/stable/), etc...).\n",
        "\n"
      ],
      "metadata": {
        "id": "nV20hYid0BcP"
      }
    },
    {
      "cell_type": "markdown",
      "source": [
        "### 4.1.1 Matrius bàsiques\n",
        "\n",
        "La matriu NumPy sembla una llista de Python embolicada en `array()`. És un objecte iterable, de manera que *podríeu* iterar-hi utilitzant un bucle `for` si realment voleu. Tanmateix, com que NumPy propaga automàticament les operacions a través de la matriu, els bucles `for` normalment no són necessaris. Per exemple, suposem que voleu multiplicar una llista de nombres per 2. Fer això amb una llista probablement tindria un aspecte semblant al següent."
      ],
      "metadata": {
        "id": "vCxGAwvrCjWq"
      }
    },
    {
      "cell_type": "code",
      "source": [
        "nums = [0, 1, 2, 3, 4, 5, 6, 7, 8, 9]\n",
        "for value in nums:\n",
        "    print(2 * value)"
      ],
      "metadata": {
        "id": "CjU-Hmqz0EmR",
        "colab": {
          "base_uri": "https://localhost:8080/"
        },
        "outputId": "be0ea270-231f-4a36-d035-d5fce3bf7d8c"
      },
      "execution_count": 2,
      "outputs": [
        {
          "output_type": "stream",
          "name": "stdout",
          "text": [
            "0\n",
            "2\n",
            "4\n",
            "6\n",
            "8\n",
            "10\n",
            "12\n",
            "14\n",
            "16\n",
            "18\n"
          ]
        }
      ]
    },
    {
      "cell_type": "markdown",
      "source": [
        "En canvi, per realitzar aquesta mateixa operació utilitzant una matriu NumPy només cal multiplicar la matriu per 2."
      ],
      "metadata": {
        "id": "K8kpX5Ma0Ipp"
      }
    },
    {
      "cell_type": "code",
      "source": [
        "arr = np.array([0, 1, 2, 3, 4, 5, 6, 7, 8, 9])\n",
        "print(2 * arr)"
      ],
      "metadata": {
        "id": "LjMlXSkL0KP7",
        "colab": {
          "base_uri": "https://localhost:8080/"
        },
        "outputId": "efd2ce86-5de1-458d-8623-4e1a7f16bcb5"
      },
      "execution_count": 3,
      "outputs": [
        {
          "output_type": "stream",
          "name": "stdout",
          "text": [
            "[ 0  2  4  6  8 10 12 14 16 18]\n"
          ]
        }
      ]
    },
    {
      "cell_type": "markdown",
      "source": [
        "## Lectures addicionals\n",
        "La documentació de NumPy està ben escrita i és un bon recurs. Com que NumPy és la base de l'ecosistema SciPy, si trobeu un llibre de Python sobre computació científica, és probable que parli o utilitzi NumPy en algun nivell.\n",
        "\n",
        "1. Lloc web de NumPy. [http://www.numpy.org/](http://www.numpy.org/) (recurs gratuït)\n",
        "2. Guia de l'usuari de NumPy. [https://numpy.org/doc/stable/user/index.html#user](https://numpy.org/doc/stable/user/index.html#user) (recurs gratuït)\n",
        "3. VanderPlas, J. Manual de ciència de dades de Python: eines essencials per treballar amb dades, 1a ed.; O’Reilly: Sebastopol, CA, 2017, capítol 2. Disponible gratuïtament a través de l'autor a [https://jakevdp.github.io/PythonDataScienceHandbook/](https://jakevdp.github.io/PythonDataScienceHandbook/) (recurs gratuït)"
      ],
      "metadata": {
        "id": "isgfr_ny09p2"
      }
    }
  ]
}