{
  "nbformat": 4,
  "nbformat_minor": 0,
  "metadata": {
    "colab": {
      "provenance": [],
      "authorship_tag": "ABX9TyMDJg0llCznROckiyWE7Pd2",
      "include_colab_link": true
    },
    "kernelspec": {
      "name": "python3",
      "display_name": "Python 3"
    },
    "language_info": {
      "name": "python"
    }
  },
  "cells": [
    {
      "cell_type": "markdown",
      "metadata": {
        "id": "view-in-github",
        "colab_type": "text"
      },
      "source": [
        "<a href=\"https://colab.research.google.com/github/py-IQCC/py-IQCC.github.io/blob/main/Treball_ESPECTRO_alumne.ipynb\" target=\"_parent\"><img src=\"https://colab.research.google.com/assets/colab-badge.svg\" alt=\"Open In Colab\"/></a>"
      ]
    },
    {
      "cell_type": "markdown",
      "source": [
        "# <font color='steelblue'>**SIMULACIÓ TEÒRICA D'ESPECTRES DE ROTACIÓ I ROTACIÓ-VIBRACIÓ DE MOLÈCULES DIATÒMIQUES**</font>"
      ],
      "metadata": {
        "id": "d9D9DfrVXK4C"
      }
    },
    {
      "cell_type": "markdown",
      "source": [
        "##<font color='steelblue'>Continguts</font>\n",
        "A. Introducció\n",
        "1. Energia\n",
        "1. Regles de selecció\n",
        "1. Intensitat\n",
        "\n",
        "B. Procediment\n",
        "1. Constants espectroscòpiques\n",
        "1. Aproximació rotor rígid\n",
        "1. Aproximació rotor no rígid\n",
        "1. Aproximació harmònica i rotor rígid\n",
        "1. Aproximació anharmònica i rotor no rígid\n",
        "1. Càlcul de l'energia de dissociació\n",
        "\n",
        "C. Qüestions\n",
        "1. Constants espectroscòpiques\n",
        "1. Espectre de rotació pura\n",
        "  * Aproximació rotor rígid\n",
        "  * Aproximació rotor no rígid (distorció centrífuga)\n",
        "  * Efecte de la temperatura en els espectres de rotació\n",
        "1. Espectre fonamental de rotació-vibració a 300K\n",
        "  * Aproximació harmònica i rotor rígid\n",
        "  * Aproximació anharmònica i rotor no rígid (també acoblament)\n",
        "1. Càlcul de l'enregia de dissociació\n",
        "\n",
        "D. Annex"
      ],
      "metadata": {
        "id": "pdrR3Gi0xA4D"
      }
    },
    {
      "cell_type": "markdown",
      "source": [
        "---\n",
        "\n",
        "## <font color='steelblue'>**A. Introducció**\n",
        "En la primera part del treball heu aproximat la funció que representa la PES a partir d'un polinomi de 4rt grau. Aquesta funció, tal com ja vàrem explicar, ens servirà per poder trobar les diferents constants espectroscòpiques que necessitem per tal de representar espectres de rotació-vibració per a la vostra molècula.\n",
        "\n"
      ],
      "metadata": {
        "id": "VJxdUvG3crRp"
      }
    },
    {
      "cell_type": "markdown",
      "source": [
        "### <font color='steelblue'>**1. Energia**\n",
        "En el Tema 6 ja vàrem introduir que l'energia en un estat qualsevol ens vindrà donada per l'expressió:\n",
        "\n",
        "\\begin{equation}\n",
        "\\begin{split}\n",
        "E_{\\nu,J,m_J}=U_k(R_e)+h\\nu_e\\left(\\nu+\\frac{1}{2}\\right)+hB_eJ(J+1)-h\\nu_e\\chi_e\\left(\\nu+\\frac{1}{2}\\right)^2 \\\\ -h\\alpha_eJ(J+1)\\left(\\nu+\\frac{1}{2}\\right)-h\\overline{D}_eJ^2(J+1)^2+hY_{00}\n",
        "\\end{split}\\tag{1}\n",
        "\\end{equation}\n",
        "\n",
        "a on $U_k(R_e)$ és l'energia de la molècula per l'estat $k$ (en el nostre cas, l'estat electrònic fonamental) a la distància d'equilibri, que ja heu calculat a l'apartat anterior i $\\nu$ i $J$ són els nombres quàntics vibracionals i rotacionals, que prenen els valors $\\nu=0,1,2,\\dots$ i $J=0,1,2,\\dots$,\n",
        "respectivament.\n",
        "\n",
        "En aquesta expressió de l'energia hi trobem la part electrònica (Tema 8), com la rotacional (Tema 7a) i vibracional (Tema 7b) amb les corresponents correccions que anirem explicant al llarg del curs.\n",
        "\n",
        "A partir de la teoria de pertorbacions es pot demostrar que les diferents constants espectroscòpiques es poden expressar en funció de les derivades de l'energia de segon, tercer i quart ordre avaluades a la distància d'equilibri, $U''(R_e)$, $U^{III}(R_e)$ i $U^{IV}(R_e)$. Aquestes derivades les podeu calcular fàcilment a partir de la funció (polinomi de 4rt grau) que heu trobat a la primera part del treball <font color='red'>**(vigileu amb les unitats)!**</font>\n",
        "\n",
        "$$B_e = \\frac{h}{8\\pi^2 \\mu R_e^2}$$\n",
        "\n",
        "$$D_e = \\frac{4 B_e^3}{\\nu_e^2}$$\n",
        "\n",
        "$$\\nu_e=\\frac{1}{2\\pi}\\sqrt{\\frac{k}{\\mu}} \\qquad k=U^{II}(R_e) \\qquad \\mu=\\frac{m_1m_2}{m_1+m_2}$$\n",
        "\n",
        "$$\\nu_e \\chi_e = \\frac{B_e^2 R_e^4}{4 h \\nu_e^2} \\left[ \\frac{10 B_e R_e^2 [U^{III}(R_e)]^2}{3 h \\nu_e^2} -U^{IV}(R_e) \\right]$$\n",
        "\n",
        "$$\\alpha_e = -\\frac{2 B_e^2}{\\nu_e} \\left[ \\frac{2 B_e R_e^3 U^{III}(R_e)}{h \\nu_e^2} +3 \\right]$$\n",
        "\n",
        "L'últim terme de l'energia, $hY_{00}$, és una constant que no depèn de cap nombre quàntic, pel que no cal que la tinguem en compte. Aquesta també es podria calcular a partir de les constants espectroscòpiques i derivades de l'energia potencial. En el nostre cas no la calcularem pas.\n",
        "\n",
        "La idea principal d'aquest treball és simular un espectre de rotació pura, i un de vibració rotació. Per això procedirem tal com hem estat explicant a teoria. Un cop tenim l'expressió de l'energia, i a partir de les regles de selecció, trobarem la posició de les diferents senyals. Un cop tinguem la posició, i a partir de la població dels diferents nivells, així com la probabilitat de transició, podrem saber quina intensitat relativa (alçada) tindran les diferent transicions.\n",
        "\n"
      ],
      "metadata": {
        "id": "qJm39DAw-woR"
      }
    },
    {
      "cell_type": "markdown",
      "source": [
        "### <font color='steelblue'>**2. Regles de selecció**\n",
        "Per tal de poder simular els diferents espectres haurem de determinar la posició de les diferents senyals (en les unitats que corresponguin), que com molt bé recordeu vénen donades per les diferents regles de selecció.\n",
        "\n",
        "Rotació Pura:\n",
        "$$ \\Delta\\nu=0\\qquad\\Delta J=\\pm1\\qquad\\Delta M_J=0,\\pm1 $$\n",
        "\n",
        "Rotació-vibració:\n",
        "$$ \\Delta\\nu=\\pm1,(\\pm2,\\pm3,\\dots)\\qquad\\Delta J=\\pm1\\qquad\\Delta M_J=0,\\pm1 $$\n",
        "\n"
      ],
      "metadata": {
        "id": "fajYrgNX-3WH"
      }
    },
    {
      "cell_type": "markdown",
      "source": [
        "### <font color='steelblue'>**3. Intensitat**\n",
        "**La intensitat de la línia** corresponent a una transició d'un estat $m$ a $n$\n",
        "\n",
        "$$ I_{m\\to n}\\propto N_m|\\mu_{mn}|^2 $$\n",
        "\n",
        "és proporcional a la població del nivell de partida, $N_m$, i a la integral del moment dipolar de transició entre els nivells inicial i final, $μ_{mn}$.\n",
        "\n",
        "Per una banda assumirem que la població dels diferents estats segueix una distribució de Boltzmann de manera que\n",
        "\n",
        "$$\n",
        "N_m\\propto g_me^{\\frac{-\\varepsilon_m}{kT}}\n",
        "$$\n",
        "\n",
        "a on $g_m$ correspon a la degeneració del nivell energètic (recordeu que els nivells rotacionals tenen una degeneració de $2J+1$) i $\\varepsilon_m$ és l'energia del nivell $m$, $T$ és la temperatura, $k$ la constant de Boltzmann.\n",
        "\n",
        "Per a cada nivell ($\\nu$,$J$) podrem calcular la població a partir de:\n",
        "\n",
        "$$\n",
        "p_{\\nu,J}=\\frac{g_me^{\\frac{-\\varepsilon_m}{kT}}}{\\sum\\limits_Jg_me^{\\frac{-\\varepsilon}{kT}}}\n",
        "$$\n",
        "\n",
        "\n",
        "> # <font color='red'>⚠ Atenció!</font>\n",
        "> <font color='red'>Recordeu que un nivell $m$ vindrà donat per una combinació de nombres quàntics $\\nu$ i $J$ de l'estat electrònic fonamental $E_{\\nu,J,m_l}(R_e)$</font>\n",
        "\n",
        "\n",
        "Per altra banda, en el curs hem determinat les regles de selecció per les diferents transicions amb els models de rotor rígid i oscil·lador harmònic. Només ens vàrem fixar en quines integrals del moment dipolar de transició s'anul·laven, però de fet, és pot deduir també el valor d'aquestes integrals per les transicions permeses. Així, en el cas de transicions entre nivells rotacionals (entre $J \\leftrightarrow J +1$) la integral pren el següent valor (veure també Physical Chemistry, Atkins 7th Edition)\n",
        "\n",
        "$$\n",
        "|\\mu_{J\\leftrightarrow J+1}|^2∝\\frac{J+1}{2J+1}\n",
        "$$\n",
        "\n",
        "i en cas de transicions entre nivells vibracionals (entre $\\nu ↔ \\nu+1$)\n",
        "\n",
        "$$\n",
        "|\\mu_{\\nu\\leftrightarrow \\nu+1}|^2∝(\\nu+1)\n",
        "$$\n",
        "\n",
        "Quan les transicions involucren canvis en els nombres quàntics rotacionals i vibracionals (espectre de rotació-vibració), el moment dipolar de transició vindrà donat pel seu producte\n",
        "\n",
        "$$\n",
        "|\\mu_{J\\leftrightarrow J+1}|^2\\cdot|\\mu_{\\nu\\leftrightarrow \\nu+1}|^2\n",
        "$$\n",
        "\n",
        "> # 🗒 Nota\n",
        "> *Aquestes integrals son les responsable de que les línies P i R de l'espectre de rotació-vibració no tinguin la mateixa intensitat. Per exemple, la línia de la branca P corresponent a la transició rotacional 1 → 0 hauria de tenir la mateixa intensitat que la corresponent a la transició 1 → 2 de la branca R si només tinguéssim en compte la població de partida, ja que és el mateix. Tot i\n",
        "això, la integral del moment dipolar de transició és més gran en el primer cas (que val 1, ja que J=0) que no pas en el segon (amb un valor de 2/3, a on J=1).*\n",
        "\n",
        "\n",
        "Com que la intensitat absoluta de les línies depèn de les condicions experimentals i altres paràmetres difícils de calcular, en el nostre cas estem determinant **intensitats relatives**.\n"
      ],
      "metadata": {
        "id": "AJzAN4Io-6yk"
      }
    },
    {
      "cell_type": "markdown",
      "source": [
        "\n",
        "---\n",
        "## <font color='steelblue'>**B. Procediment** (mirar a on comença el codi per executar)\n",
        "\n",
        "### **1. Constants espectroscòpiques**\n",
        "\n",
        "\n",
        "### **2. Energia de cada nivell $\\nu,J$**\n",
        "\n",
        "\n",
        "### **3. Poblacions**\n",
        "\n",
        "\n",
        "### **4. Transicions (senyals de l'epectre) i intensitat**\n",
        "\n",
        "\n"
      ],
      "metadata": {
        "id": "LqTH9YAC--iP"
      }
    },
    {
      "cell_type": "markdown",
      "source": [
        "---\n",
        "## <font color='steelblue'>**C. Qüestions**\n",
        "A continuació teniu les qüestions que heu d'anar contestant al llarg del treball. No cal que seguiu la mateixa numeració, es tracta de que vagin sortint els diferents apartats.\n",
        "\n",
        "Penseu que es tracta de un treball, per tant, tot i que no demanem una introducció, si que el final del treball anterior ha de formar part d'aquest. És a dir, tot es basa en una molècula assignada (poseu-la) i de un ajust que heu fet en el treball de quàntica.\n",
        "\n"
      ],
      "metadata": {
        "id": "NuN_zbd5_BM5"
      }
    },
    {
      "cell_type": "markdown",
      "source": [
        "### <font color='steelblue'>**1. Constants espectroscòpiques**\n",
        "Feu una taula amb els valors calculats de les diferents constants i compareu-lo amb valors experimentals que trobeu a la bibliografia (podeu consultar la base de dades del NIST per trobar dades experimentals https://webbook.nist.gov/)\n",
        "\n",
        "> En la discussió de la comparació de dades fer server paràmetres quantitatius (error absolut i relatiu) per podeu analitzar la seva semblança.\n",
        "\n"
      ],
      "metadata": {
        "id": "SKqQcMxj_D1Q"
      }
    },
    {
      "cell_type": "markdown",
      "source": [
        "### <font color='steelblue'>**2. Espectes de rotació pura**\n"
      ],
      "metadata": {
        "id": "I2JXSrVn_Gi7"
      }
    },
    {
      "cell_type": "markdown",
      "source": [
        "#### **<u>2.1 Aproximació Rotor Rígid</u>**\n",
        "Comenteu de forma raonada la separació entre senyals.\n"
      ],
      "metadata": {
        "id": "QF4-ZOpi_Jl_"
      }
    },
    {
      "cell_type": "markdown",
      "source": [
        "#### **<u>2.2 Aproximació rotor No Rígid (Distorció centrífuga)</u>**\n",
        "Comenteu de forma raonada la separació entre línies i compareu els resultats amb\n",
        "l'espectre anterior. En alguns casos (depenent de la molècula), es pot veure el cap de banda ($J$ a partir de la separació entre senyals esdevé zero). Comproveu si es pot veure en el vostre cas (incrementant la $J$, **molt!!**).\n"
      ],
      "metadata": {
        "id": "cQbuFKI5_LKy"
      }
    },
    {
      "cell_type": "markdown",
      "source": [
        "#### **<u>2.3 Efecte de la temperatura en els espectres de rotació</u>**\n",
        "Representació gràfica de l'espectre a dues temperatures (per exemple 100 i 300K, però si cal adapteu les temperatura al vostre sistema, que es vegi bé la diferència entre ambdós espectres).\n",
        "\n",
        "Comenteu l'efecte de la temperatura en la forma dels espectres.\n",
        "\n"
      ],
      "metadata": {
        "id": "uiwtHZiy_NJH"
      }
    },
    {
      "cell_type": "markdown",
      "source": [
        "### <font color='steelblue'>**3. Espectre fonamental ($\\nu=0$) de rotació-vibració a 300K**\n"
      ],
      "metadata": {
        "id": "kM3QSOQ__Pjm"
      }
    },
    {
      "cell_type": "markdown",
      "source": [
        "#### **<u>3.1 Aproximació harmònica i rotor rígid</u>**\n",
        "Representació gràfica de les branques PQR de l'espectre. Representació de l'espectre suposant ara l'aproximació del rotor rígid i oscil·lador harmònic. Penseu si heu de representar la branca Q o no!!\n"
      ],
      "metadata": {
        "id": "ZNkYVIM7_RP2"
      }
    },
    {
      "cell_type": "markdown",
      "source": [
        "#### **<u>3.2 Aproximació anharmònica i rotor no rígid (també acoblament)</u>**\n",
        "Representació gràfica de les branques PQR tenint en compte totes les aproximacions (distorsió centrífuga, anharmonicitat i acoblament roto-vibracional). Comenteu sobre la asimetria de les branques P i R. Determineu la presència del cap de banda a la branca corresponent i per quin valor de $J$ s'observa. (el cap de banda, si recordeu, és la $J$ a partir del qual la distància entre dues senyals comença a ser negativa).\n",
        "\n"
      ],
      "metadata": {
        "id": "cLy1WZ6H_S2J"
      }
    },
    {
      "cell_type": "markdown",
      "source": [
        "### <font color='steelblue'>**4. Càlcul de l'energia de dissociació**\n",
        "A partir de les constants vibracionals (freqüència de vibració i constant de\n",
        "anharmonicitat), calculeu $v_{limit}$ (nivell a on la separació entre dues transicions vibracional esdevé zero), i a partir d'aquest, amb l'expressió de l'energia, l'energia de dissociació ($D_o$ i $D_e$). Compareu el valor amb la obtinguda a la primera part del treball.\n",
        "\n"
      ],
      "metadata": {
        "id": "J8NnM7j__UY4"
      }
    },
    {
      "cell_type": "markdown",
      "source": [
        "## <font color='steelblue'>**D. Annex**\n",
        "* Es tracta de un treball, **no de una col·lecció de gràfics**. Per tant si només hi ha gràfics sense una explicació sobre ells (tal com posa el guió del treball) no els tindré en compte.\n",
        "* No cal que poseu els càlculs de les dades (si ja ho heu fet ho deixeu), però el més important és la taula amb els valors (amb **xifres significatives semblants** a les dades experimentals).\n",
        "* Per comparar les dades amb experimentals, no vol dir només mirar-les i dir\n",
        "“s'assemblen”, ja hi ha una dada quantitativa que serveix per això, **es diu error relatiu!**\n",
        "* Les taules han de tenir un **petit encapçalament**, i sobretot **UNITATS!!!**\n",
        "* Quan vulgueu expressar un número amb notació científica és : $3.00\\cdot10^{-10}$, no valen trets directament amb la $3.00E-10$. La millor manera és que a les unitats ja hi tingueu el $10^{-10}$ i en el cos de la taula només les xifres significatives.\n",
        "* **NO CAL que poseu les taules dels espectres**, per això us demano el fitxer `.ipynb`. **NOMÉS necessito els espectres**.\n",
        "* Les gràfiques (espectres) també porten un **peu de figura**.\n",
        "* Afegiu també la **gràfica amb el polinomi** que vàreu obtenir en la primera part del treball (així ens estalvieu una mica de feina), **i la molècula**."
      ],
      "metadata": {
        "id": "FcYpue36_XKK"
      }
    },
    {
      "cell_type": "markdown",
      "source": [
        "# <font color='steelblue'>**PROCEDIMENT**"
      ],
      "metadata": {
        "id": "D9T54gVvr39f"
      }
    },
    {
      "cell_type": "markdown",
      "source": [
        "Iniciem carregant constants i llibreries."
      ],
      "metadata": {
        "id": "6DZU0MhosFcP"
      }
    },
    {
      "cell_type": "code",
      "execution_count": null,
      "metadata": {
        "id": "8z_AtIpjbB00"
      },
      "outputs": [],
      "source": [
        "import numpy as np\n",
        "import math\n",
        "import matplotlib.pyplot as plt"
      ]
    },
    {
      "cell_type": "code",
      "source": [
        "# Constant de Plank\n",
        "h = ...\n",
        "\n",
        "# Velocitat de la llum al buit\n",
        "c1 = ...\n",
        "\n",
        "# Constant de Boltzmann\n",
        "kB = ...\n",
        "\n",
        "# Nombre d'Avogadro\n",
        "NA = ...\n",
        "\n",
        "# Conversió au a J\n",
        "Hartree = ...\n",
        "\n",
        "# Conversió armstrongs a m\n",
        "AtoM = ..."
      ],
      "metadata": {
        "id": "BkquXB1ttvkN"
      },
      "execution_count": null,
      "outputs": []
    },
    {
      "cell_type": "markdown",
      "source": [
        "Introduim les dades de la molècula així com la informació que heu obringut del polinomi extrapolador de la part de Quàntica."
      ],
      "metadata": {
        "id": "qeiTPs44sQU2"
      }
    },
    {
      "cell_type": "code",
      "source": [
        "# Masses atòmiques\n",
        "m1 = ...\n",
        "m2 = ...\n",
        "\n",
        "#Escriu la fórmula de la massa reduïda\n",
        "mu = ...\n",
        "\n",
        "# Coeficinets del polinomi de la corba de potencial ajustada (recorda que el polinomi té la forma f(x)=ax4+bx3+cx2+dx+e)\n",
        "a, b, c, d, e = ..., ..., ..., ..., ...\n",
        "\n",
        "# Distància d’equilibri\n",
        "Re = ..."
      ],
      "metadata": {
        "id": "8rZk55Xbsjq4"
      },
      "execution_count": null,
      "outputs": []
    },
    {
      "cell_type": "markdown",
      "source": [
        "Ara cal definir la funció del potencial i les seves derivades en funció dels coeficients que hem definit abans."
      ],
      "metadata": {
        "id": "5cHUaSyNuQkV"
      }
    },
    {
      "cell_type": "code",
      "source": [
        "def U(r):\n",
        "    return ...\n",
        "\n",
        "def dU(r):\n",
        "    return ...\n",
        "\n",
        "def dU2(r):\n",
        "    return ...\n",
        "\n",
        "def dU3(r):\n",
        "    return ...\n",
        "\n",
        "def dU4(r):\n",
        "    return ..."
      ],
      "metadata": {
        "id": "3cPD5Ka3sYWa"
      },
      "execution_count": null,
      "outputs": []
    },
    {
      "cell_type": "markdown",
      "source": [
        "## <font color='steelblue'>**1. Constants espectroscòpiques**\n",
        "Un cop definides les funcions del potencial, calculem les constants espectroscòpiques."
      ],
      "metadata": {
        "id": "z7BJiU-zuvND"
      }
    },
    {
      "cell_type": "code",
      "source": [
        "Be = ...\n",
        "\n",
        "k_force = ...\n",
        "\n",
        "nu_e = ...\n",
        "\n",
        "nu_e_chi_e = ...\n",
        "\n",
        "chi_e = ...\n",
        "\n",
        "alpha_e = ...\n",
        "\n",
        "De = ...\n",
        "\n",
        "print(f\"\\033[1;4mCONSTANTS ESPECTROSCÒPIQUES:\\033[0m\")\n",
        "print(f\"Be = {Be:.2e} s⁻¹\")\n",
        "print(f\"k = {k_force:.2e} J/m2\")\n",
        "print(f\"nu_e = {nu_e:.2e} s⁻¹\")\n",
        "print(f\"nu_e·chi_e = {nu_e_chi_e:.2e} s⁻¹\")\n",
        "print(f\"chi_e = {chi_e:.2e} s⁻¹\")\n",
        "print(f\"alpha_e = {alpha_e:.2e} s⁻¹\")\n",
        "print(f\"De = {De:.2e} s⁻¹\")"
      ],
      "metadata": {
        "id": "BwxWRmFFu1_G"
      },
      "execution_count": null,
      "outputs": []
    },
    {
      "cell_type": "markdown",
      "source": [
        "## <font color='steelblue'>**2. Aproximació rotor rígid**"
      ],
      "metadata": {
        "id": "se03-13Ry2Ep"
      }
    },
    {
      "cell_type": "code",
      "source": [
        "#Definim la funció de l'energia del rotor rígid, que dependrà de J:\n",
        "def Erot(J):\n",
        "  return ...\n",
        "\n",
        "#Definim la formula per a calcular les poblacions, que dependrà de J i T:\n",
        "def pop(J, T):\n",
        "    return ...\n",
        "\n",
        "#I definim també la suma d'aquestes poblacions:\n",
        "def suma_poblacions(T, J_max):\n",
        "    return sum(pop(J, T) for J in range(J_max + 1))\n",
        "\n",
        "#Calculem les intensitats de cada línia:\n",
        "def espectre_rot(T, J_max):\n",
        "    intensitats = []\n",
        "    posicions = []\n",
        "    Js = []\n",
        "\n",
        "    Z = suma_poblacions(T, J_max)  # Sumatori de poblacions\n",
        "\n",
        "    for J in range(J_max):\n",
        "        p_J = pop(J, T) / Z\n",
        "\n",
        "        #Fórmula del moment dipolar al quadrat\n",
        "        mu2 = ...\n",
        "\n",
        "        #Fórmula de la intensitat de la línia\n",
        "        intensitat_relativa = ...\n",
        "\n",
        "        #Calculem la diferència d'energia entre els nivells J+1 i J\n",
        "        delta_E = ...\n",
        "\n",
        "        Js.append(J)\n",
        "        intensitats.append(intensitat_relativa)\n",
        "        posicions.append(delta_E)\n",
        "\n",
        "        print(f\"ΔE({J}→{J+1}) = {delta_E:.2f} cm⁻¹ | I_rel = {intensitat_relativa:.2e}\")\n",
        "\n",
        "    return Js, intensitats, posicions\n",
        "\n",
        "print(\"\\033[1;4mΔE(J→J+1) (cm⁻¹) | I_rel\\033[0m\")\n",
        "Js, intensitats, posicions = espectre_rot(T, J_max)\n",
        "print(\"\\n\")\n",
        "\n",
        "# -----------------\n",
        "# Gràfic\n",
        "# -----------------\n",
        "plt.figure(figsize=(10,5))\n",
        "plt.vlines(posicions, 0, intensitats, color='blue')\n",
        "plt.xlabel(\"Nombre d’ona (cm⁻¹)\")\n",
        "plt.ylabel(\"Intensitat relativa\")\n",
        "plt.title(f\"Espectre de rotació pura (T = {T} K)\")\n",
        "plt.grid(True)\n",
        "plt.show()"
      ],
      "metadata": {
        "id": "QaNL5D9Ly0_T"
      },
      "execution_count": null,
      "outputs": []
    },
    {
      "cell_type": "markdown",
      "source": [
        "## <font color='steelblue'>**3. Aproximació rotor no rígid**"
      ],
      "metadata": {
        "id": "atI5ShS32gUp"
      }
    },
    {
      "cell_type": "code",
      "source": [
        "#Definim la funció de l'energia del rotor rígid i la distorció centrífuga, que dependrà de J:\n",
        "def Erot(J):\n",
        "    Erotrig = ...\n",
        "    Edc = ...\n",
        "    return Erotrig + Edc\n",
        "\n",
        "#Definim la formula per a calcular les poblacions, que dependrà de J i T:\n",
        "def pob(J, T):\n",
        "    return ...\n",
        "\n",
        "#I definim també la suma d'aquestes poblacions:\n",
        "def suma_poblacions(T, J_max):\n",
        "    return sum(pob(J, T) for J in range(J_max + 1))\n",
        "\n",
        "#Calculem les intensitats de cada línia:\n",
        "def espectre_rot(T, J_max):\n",
        "    intensitats = []\n",
        "    posicions = []\n",
        "    Js = []\n",
        "\n",
        "    Z = suma_poblacions(T, J_max)  # Sumatori de poblacions\n",
        "\n",
        "    for J in range(J_max):\n",
        "        p_J = pob(J, T) / Z\n",
        "\n",
        "        #Fórmula del moment dipolar al quadrat\n",
        "        mu2 = ...\n",
        "\n",
        "        #Fórmula de la intensitat de la línia\n",
        "        intensitat_relativa = ...\n",
        "\n",
        "        #Calculem la diferència d'energia entre els nivells J+1 i J\n",
        "        delta_E = ...\n",
        "\n",
        "        Js.append(J)\n",
        "        intensitats.append(intensitat_relativa)\n",
        "        posicions.append(delta_E)\n",
        "\n",
        "    return Js, intensitats, posicions\n",
        "\n",
        "print(\"\\033[1;4mΔE(J→J+1) (cm⁻¹) | I_rel\\033[0m\")\n",
        "Js, intensitats, posicions = espectre_rot(T, J_max)\n",
        "print(\"\\n\")\n",
        "\n",
        "# -----------------\n",
        "# Gràfic\n",
        "# -----------------\n",
        "plt.figure(figsize=(10,5))\n",
        "plt.vlines(posicions, 0, intensitats, color='blue')\n",
        "plt.xlabel(\"Nombre d’ona (cm⁻¹)\")\n",
        "plt.ylabel(\"Intensitat relativa normalitzada\")\n",
        "plt.title(f\"Espectre de rotació pura amb distorció centrífuga (T = {T} K)\")\n",
        "plt.grid(True)\n",
        "plt.show()"
      ],
      "metadata": {
        "id": "jisY5Uok2fn2"
      },
      "execution_count": null,
      "outputs": []
    },
    {
      "cell_type": "markdown",
      "source": [
        "## <font color='steelblue'>**4. Aproximació harmònica i rotor rígid**"
      ],
      "metadata": {
        "id": "9XRMw01k784g"
      }
    },
    {
      "cell_type": "code",
      "source": [
        "#Definim la funció de l'energia (rotor rígid + armonicitat), que dependrà de  v i J:\n",
        "def Erotvib(v,J):\n",
        "    Erot = ...\n",
        "    Evib = ...\n",
        "    return Evib + Erot\n",
        "\n",
        "#Definim la formula per a calcular les poblacions, que dependrà de v (degut al Erotvib), J i T:\n",
        "def pob(v, J, T):\n",
        "    return ...\n",
        "\n",
        "#I definim també la suma d'aquestes poblacions:\n",
        "def suma_poblacions(T, J_max,v=0):\n",
        "    return sum(pob(v, J, T) for J in range(J_max + 1))\n",
        "\n",
        "def espectre_rotvib(T, J_max):\n",
        "    nu_P = []  # posicions branca P\n",
        "    I_P = []   # intensitats branca P\n",
        "\n",
        "    nu_R = []  # posicions branca R\n",
        "    I_R = []   # intensitats branca R\n",
        "\n",
        "    Z = suma_poblacions(T, J_max)\n",
        "\n",
        "    for J in range(J_max + 1):\n",
        "        # Població normalitzada del nivell inicial\n",
        "        p_J = ...\n",
        "\n",
        "        # Branca P: v=0, J → v=1, J-1\n",
        "        if J >= 1:\n",
        "            #Calculem la diferència d'energia entre els nivells J-1 i J\n",
        "            delta_E_P = ...\n",
        "            #Fórmula del moment dipolar al quadrat per la branca P\n",
        "            mu2_P = ...\n",
        "            #Fórmula de la intensitat de la línia\n",
        "            intensitat_relativa_P = ...\n",
        "            nu_P.append(delta_E_P)\n",
        "            I_P.append(intensitat_relativa_P)\n",
        "\n",
        "        # Branca R: v=0, J → v=1, J+1\n",
        "        if J < J_max:\n",
        "            #Calculem la diferència d'energia entre els nivells J+1 i J\n",
        "            delta_E_R = ...\n",
        "            #Fórmula del moment dipolar al quadrat per la branca R\n",
        "            mu2_R = ...\n",
        "            #Fórmula de la intensitat de la línia\n",
        "            intensitat_relativa_R = ...\n",
        "            nu_R.append(delta_E_R)\n",
        "            I_R.append(intensitat_relativa_R)\n",
        "\n",
        "    # Branca Q: v=0, J=0 → v=1, J=0\n",
        "    #Calculem la diferència d'energia entre els nivells J i J\n",
        "    delta_E_Q = ...\n",
        "    #Fórmula del moment dipolar al quadrat per la branca Q\n",
        "    mu2_Q = 1\n",
        "    #Fórmula de la població per la branca Q\n",
        "    p_J_Q = ...\n",
        "    nu_Q = ...\n",
        "    #Fórmula de la intensitat de la línia\n",
        "    I_Q = ...\n",
        "\n",
        "    return nu_P, I_P, nu_Q, I_Q, nu_R, I_R\n",
        "\n",
        "nu_P, I_P, nu_Q, I_Q, nu_R, I_R = espectre_rotvib(T, J_max)\n",
        "\n",
        "# -----------------\n",
        "# Gràfic\n",
        "# -----------------\n",
        "plt.figure(figsize=(10,5))\n",
        "plt.vlines(nu_P, 0, I_P, color='green', label='Branca P')\n",
        "plt.vlines(nu_Q, 0, I_Q, color='gray', label='Branca Q')\n",
        "plt.vlines(nu_R, 0, I_R, color='orange', label='Branca R')\n",
        "plt.xlabel(\"Nombre d’ona (cm⁻¹)\")\n",
        "plt.ylabel(\"Intensitat relativa\")\n",
        "plt.title(f\"Espectre de rotació-vibració (harmònic + rotor rígid) (T = {T} K)\")\n",
        "plt.legend()\n",
        "plt.grid(True)\n",
        "plt.show()"
      ],
      "metadata": {
        "id": "fh8OvBTe8C1q"
      },
      "execution_count": null,
      "outputs": []
    },
    {
      "cell_type": "markdown",
      "source": [
        "## <font color='steelblue'>**5. Aproximació anharmònica i rotor no rígid**"
      ],
      "metadata": {
        "id": "zlnQ58urCjiR"
      }
    },
    {
      "cell_type": "code",
      "source": [
        "#Definim la funció de l'energia (rotor no rígid + anharmonicitat), que dependrà de  v i J:\n",
        "def Etotal(v, J):\n",
        "    Erot = ...\n",
        "    Evib = ...\n",
        "    Acob = ...\n",
        "    return Evib + Erot + Acob\n",
        "\n",
        "#Definim la formula per a calcular les poblacions, que dependrà de v (degut al Erotvib), J i T:\n",
        "def pob(v, J, T):\n",
        "    return ...\n",
        "\n",
        "# Intensitat relativa d'una transició (inclou moment de transició efectiu)\n",
        "def intensitat_relativa(v_i, J_i, v_f, J_f, T):\n",
        "    p = pob(v_i, J_i, T)\n",
        "    mu2 = (J_i + 1) / (2 * J_i + 1)\n",
        "    return p * mu2\n",
        "\n",
        "# Calcular espectre complet per branques P, Q, R\n",
        "def espectre_rotvib(T, J_max):\n",
        "    nu_P, I_P = [], []\n",
        "    nu_Q, I_Q = [], []\n",
        "    nu_R, I_R = [], []\n",
        "\n",
        "    Z = sum(pob(0, J, T) for J in range(J_max + 1))\n",
        "\n",
        "    for J in range(J_max + 1):\n",
        "        # Branca P: J → J-1\n",
        "        if J >= 1:\n",
        "            #Calculem la diferència d'energia entre els nivells J-1 i J\n",
        "            delta_E_P = ...\n",
        "            #Fórmula del moment dipolar al quadrat per la branca P\n",
        "            mu2_P = ...\n",
        "            #Fórmula de la intensitat de la línia\n",
        "            intensitat_relativa_P = ...\n",
        "            nu_P.append(delta_E_P)\n",
        "            I_P.append(intensitat_relativa_P)\n",
        "\n",
        "        # Branca R: J → J+1\n",
        "        if J < J_max:\n",
        "            #Calculem la diferència d'energia entre els nivells J+1 i J\n",
        "            delta_E_R = ...\n",
        "            #Fórmula del moment dipolar al quadrat per la branca R\n",
        "            mu2_R = ...\n",
        "            #Fórmula de la intensitat de la línia\n",
        "            intensitat_relativa_R = ...\n",
        "            nu_R.append(delta_E_R)\n",
        "            I_R.append(intensitat_relativa_R)\n",
        "\n",
        "    # Branca Q: J → J\n",
        "    #Calculem la diferència d'energia entre els nivells J i J\n",
        "    delta_E_Q = ...\n",
        "    #Fórmula del moment dipolar al quadrat per la branca Q\n",
        "    mu2_Q = ...\n",
        "    nu_Q = ...\n",
        "    #Fórmula de la intensitat de la línia\n",
        "    I_Q = ...\n",
        "\n",
        "    return nu_P, I_P, nu_Q, I_Q, nu_R, I_R\n",
        "\n",
        "nu_P, I_P, nu_Q, I_Q, nu_R, I_R = espectre_rotvib(T, J_max)\n",
        "\n",
        "# -----------------\n",
        "# Gràfic\n",
        "# -----------------\n",
        "plt.figure(figsize=(10,5))\n",
        "plt.vlines(nu_P, 0, I_P, color='green', label='Branca P')\n",
        "plt.vlines(nu_Q, 0, I_Q, color='gray', label='Branca Q')\n",
        "plt.vlines(nu_R, 0, I_R, color='orange', label='Branca R')\n",
        "plt.xlabel(\"Nombre d’ona (cm⁻¹)\")\n",
        "plt.ylabel(\"Intensitat relativa\")\n",
        "plt.title(f\"Espectre de rotació-vibració (anharmònic + rotor no rígid) (T={T} K)\")\n",
        "plt.legend(loc='upper left')\n",
        "plt.grid(True)\n",
        "plt.show()"
      ],
      "metadata": {
        "id": "3Utr_6UUCjBM"
      },
      "execution_count": null,
      "outputs": []
    },
    {
      "cell_type": "markdown",
      "source": [
        "## <font color='steelblue'>**6. Càlcul de l'energia de dissociació**"
      ],
      "metadata": {
        "id": "y89egV7XLAcg"
      }
    },
    {
      "cell_type": "code",
      "source": [
        "def calcular_dissociacio(nu_e, chi_e):\n",
        "    #Fórmula per calcular la v_limit\n",
        "    v_lim = ...\n",
        "\n",
        "    # Fórmula per calcular l'energia de dissociació (De)\n",
        "    De = ...\n",
        "\n",
        "    # Fórmula per calcular D0\n",
        "    D0 = ...\n",
        "\n",
        "    return v_lim, De, D0\n",
        "\n",
        "vlim, De, D0 = calcular_dissociacio(nu_e, chi_e)\n",
        "\n",
        "# Resultats\n",
        "print(f\"v_limit = {vlim:.2f}\")\n",
        "print(f\"D_e = {De:.2f} kJ/mol\")\n",
        "print(f\"D_0 = {D0:.2f} kJ/mol\")\n"
      ],
      "metadata": {
        "id": "A3FX-Qe7LGDJ"
      },
      "execution_count": null,
      "outputs": []
    }
  ]
}